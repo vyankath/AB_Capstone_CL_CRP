{
 "cells": [
  {
   "cell_type": "markdown",
   "metadata": {
    "id": "vncDsAP0Gaoa"
   },
   "source": [
    "# **Project Name**    - Cardiovascular Risk Prediction\n",
    "\n"
   ]
  },
  {
   "cell_type": "markdown",
   "metadata": {
    "id": "beRrZCGUAJYm"
   },
   "source": [
    "##### **Project Type**    - Classification\n",
    "##### **Contribution**    - Vyankat B Hambarde (Individual)"
   ]
  },
  {
   "cell_type": "markdown",
   "metadata": {
    "id": "FJNUwmbgGyua"
   },
   "source": [
    "# **Project Summary -**"
   ]
  },
  {
   "cell_type": "markdown",
   "metadata": {
    "id": "F6v_1wHtG2nS"
   },
   "source": [
    "The aim of this project was to use machine learning methods to forecast the risk of coronary heart disease (CHD) in patients over the next 10 years. The researchers used data from an ongoing cardiovascular study conducted on residents of Framingham, Massachusetts. The dataset contained details of more than 4,000 patients and had 15 different attributes, each representing a possible factor contributing to the risk of CHD. These attributes covered information about the patients' demographics, behaviors, and medical conditions that could affect the likelihood of developing coronary heart disease.\n",
    "\n",
    "Before analyzing the data, data preprocessing has been done. It involved cleaning and changing the data to make it easier to work with. One important step was dealing with missing values, where some information was not available for some patients. Different techniques were used to estimate these missing values, such as using the middle value (median) of similar data, the most common value (mode), or a method called KNN imputation. Outliers, which are unusual or extreme values that could affect the analysis, were also identified and removed from the data. This was done using a method called Interquartile Range (IQR). To improve the accuracy of the analysis, certain continuous variables that were unevenly distributed were transformed. For example, they were changed using mathematical functions like logarithms or square roots to make the data more balanced and easier to work with.\n",
    "\n",
    "To ensure that the chosen features are not highly related to each other (reducing redundancy), a method called variance inflation factor was used to detect and remove multicollinearity. Multicollinearity occurs when some features are highly correlated, making it challenging for the model to distinguish their individual effects.\n",
    "\n",
    "Additionally, a new feature named \"pulse pressure\" was created to capture the relationship between systolic and diastolic blood pressure. This newly derived feature can be valuable in understanding the impact of blood pressure on CHD risk. After the feature selection process, some columns that were found to be redundant were removed to simplify the dataset and avoid unnecessary complexity.\n",
    "The most important features, based on their impact on predicting CHD risk, were identified as 'age', 'sex', 'education', 'cigs_per_day', 'bp_meds' (blood pressure medications usage), 'prevalent_stroke', 'prevalent_hyp' (prevalent hypertension), 'diabetes', 'total_cholesterol', 'bmi' (body mass index), 'heart_rate', 'glucose', and 'pulse_pressure'. These selected features can be used to build a more effective model to predict the risk of coronary heart disease in patients based on the dataset.\n",
    "\n",
    "In this project, the dataset was imbalanced, meaning there were more examples of one class (patients without CHD risk) than the other class (patients with CHD risk). To address this issue, a combination of two techniques, SMOTE (Synthetic Minority Over-sampling Technique) and Tomek links undersampling, was used. This balanced the class distribution and improved the model's performance.\n",
    "\n",
    "To ensure that all features had the same scale and to avoid any bias towards specific features, the data was scaled using the standard scalar method. Several machine learning models were tested to see how well they performed in predicting CHD risk. The main evaluation metric used was \"recall,\" which measures the ability of the model to correctly identify patients with CHD risk. After thorough analysis, the Neural Network model, which was fine-tuned for better performance, was selected as the final prediction model. It had the highest recall score among all the evaluated models. By prioritizing a high recall score, the aim was to correctly identify as many patients at risk of CHD as possible, even if it meant having some false positives. Overall, the project demonstrated the potential of machine learning to accurately predict CHD risk in patients based on data from a cardiovascular study. Through careful data preprocessing, feature selection, and model evaluation, it was possible to achieve positive results by effectively predicting CHD risk in patients."
   ]
  },
  {
   "cell_type": "markdown",
   "metadata": {
    "id": "w6K7xa23Elo4"
   },
   "source": [
    "# **GitHub Link -**"
   ]
  },
  {
   "cell_type": "markdown",
   "metadata": {
    "id": "h1o69JH3Eqqn"
   },
   "source": [
    "https://github.com/vyankath/Capstone_CL_CRP"
   ]
  },
  {
   "cell_type": "markdown",
   "metadata": {
    "id": "yQaldy8SH6Dl"
   },
   "source": [
    "# **Problem Statement**\n"
   ]
  },
  {
   "cell_type": "markdown",
   "metadata": {
    "id": "DpeJGUA3kjGy"
   },
   "source": [
    "The dataset used in this study is from an ongoing cardiovascular study conducted on residents of Framingham, Massachusetts. The main objective is to predict whether a patient has a 10-year risk of developing coronary heart disease (CHD). The dataset contains information on more than 4,000 patients and includes 15 attributes, each representing a potential risk factor for CHD. These attributes cover various aspects, including demographic information, behaviors, and medical factors that could influence the risk of developing coronary heart disease."
   ]
  },
  {
   "cell_type": "markdown",
   "metadata": {
    "id": "mDgbUHAGgjLW"
   },
   "source": [
    "# **General Guidelines** : -  "
   ]
  },
  {
   "cell_type": "markdown",
   "metadata": {
    "id": "ZrxVaUj-hHfC"
   },
   "source": [
    "1.   Well-structured, formatted, and commented code is required.\n",
    "2.   Exception Handling, Production Grade Code & Deployment Ready Code will be a plus. Those students will be awarded some additional credits.\n",
    "     \n",
    "     The additional credits will have advantages over other students during Star Student selection.\n",
    "       \n",
    "             [ Note: - Deployment Ready Code is defined as, the whole .ipynb notebook should be executable in one go\n",
    "                       without a single error logged. ]\n",
    "\n",
    "3.   Each and every logic should have proper comments.\n",
    "4. You may add as many number of charts you want. Make Sure for each and every chart the following format should be answered.\n",
    "        \n",
    "\n",
    "```\n",
    "# Chart visualization code\n",
    "```\n",
    "            \n",
    "\n",
    "*   Why did you pick the specific chart?\n",
    "*   What is/are the insight(s) found from the chart?\n",
    "* Will the gained insights help creating a positive business impact?\n",
    "Are there any insights that lead to negative growth? Justify with specific reason.\n",
    "\n",
    "5. You have to create at least 15 logical & meaningful charts having important insights.\n",
    "\n",
    "\n",
    "[ Hints : - Do the Vizualization in  a structured way while following \"UBM\" Rule.\n",
    "\n",
    "U - Univariate Analysis,\n",
    "\n",
    "B - Bivariate Analysis (Numerical - Categorical, Numerical - Numerical, Categorical - Categorical)\n",
    "\n",
    "M - Multivariate Analysis\n",
    " ]\n",
    "\n",
    "\n",
    "\n",
    "\n",
    "\n",
    "6. You may add more ml algorithms for model creation. Make sure for each and every algorithm, the following format should be answered.\n",
    "\n",
    "\n",
    "*   Explain the ML Model used and it's performance using Evaluation metric Score Chart.\n",
    "\n",
    "\n",
    "*   Cross- Validation & Hyperparameter Tuning\n",
    "\n",
    "*   Have you seen any improvement? Note down the improvement with updates Evaluation metric Score Chart.\n",
    "\n",
    "*   Explain each evaluation metric's indication towards business and the business impact pf the ML model used.\n",
    "\n",
    "\n",
    "\n",
    "\n",
    "\n",
    "\n",
    "\n",
    "\n",
    "\n",
    "\n",
    "\n",
    "\n",
    "\n",
    "\n",
    "\n",
    "\n",
    "\n",
    "\n"
   ]
  },
  {
   "cell_type": "markdown",
   "metadata": {
    "id": "O_i_v8NEhb9l"
   },
   "source": [
    "# ***Let's Begin !***"
   ]
  },
  {
   "cell_type": "markdown",
   "metadata": {
    "id": "HhfV-JJviCcP"
   },
   "source": [
    "## ***1. Know Your Data***"
   ]
  },
  {
   "cell_type": "markdown",
   "metadata": {
    "id": "Y3lxredqlCYt"
   },
   "source": [
    "### Import Libraries"
   ]
  },
  {
   "cell_type": "code",
   "execution_count": 1,
   "metadata": {
    "id": "M8Vqi-pPk-HR"
   },
   "outputs": [],
   "source": [
    "# Import Libraries\n",
    "import pandas as pd\n",
    "import numpy as np\n",
    "from datetime import datetime as dt # For Manupulation of data\n",
    "\n",
    "\n",
    "\n",
    "import seaborn as sns\n",
    "import matplotlib.pyplot as plt  # For Visualization of data\n",
    "%matplotlib inline\n",
    "\n",
    "from sklearn.impute import KNNImputer     # For imputation of missing values\n",
    "from sklearn.feature_selection import chi2 # Feature selection\n",
    "\n",
    "from sklearn.metrics import confusion_matrix, accuracy_score, precision_score, recall_score\n",
    "from sklearn.metrics import f1_score, roc_auc_score, roc_curve, classification_report # evaluation metric for classofication algo\n",
    "\n",
    "from sklearn.model_selection import train_test_split\n",
    "from imblearn.over_sampling import SMOTE\n",
    "from imblearn.combine import SMOTETomek\n",
    "from sklearn.preprocessing import StandardScaler\n",
    "from sklearn.model_selection import GridSearchCV, RandomizedSearchCV\n",
    "from sklearn.linear_model import LogisticRegression\n",
    "from sklearn.tree import DecisionTreeClassifier\n",
    "from sklearn.ensemble import RandomForestClassifier\n",
    "from sklearn.svm import SVC\n",
    "from sklearn.neural_network import MLPClassifier\n",
    "from sklearn.neighbors import KNeighborsClassifier\n",
    "from sklearn.naive_bayes import GaussianNB\n",
    "from sklearn.model_selection import RepeatedStratifiedKFold # above all For meachine learning work\n",
    "\n",
    "# Import warnings\n",
    "import warnings\n",
    "warnings.filterwarnings('ignore')"
   ]
  },
  {
   "cell_type": "markdown",
   "metadata": {
    "id": "3RnN4peoiCZX"
   },
   "source": [
    "### Dataset Loading"
   ]
  },
  {
   "cell_type": "code",
   "execution_count": 2,
   "metadata": {},
   "outputs": [],
   "source": [
    "CRP_df = pd.read_csv('data_cardiovascular_risk.csv')# importing and reading dataset"
   ]
  },
  {
   "cell_type": "markdown",
   "metadata": {
    "id": "x71ZqKXriCWQ"
   },
   "source": [
    "### Dataset First View"
   ]
  },
  {
   "cell_type": "code",
   "execution_count": 3,
   "metadata": {
    "colab": {
     "base_uri": "https://localhost:8080/",
     "height": 488
    },
    "id": "LWNFOSvLl09H",
    "outputId": "4ebd3099-dc58-4940-808b-1fac4bec22d5"
   },
   "outputs": [
    {
     "data": {
      "text/html": [
       "<div>\n",
       "<style scoped>\n",
       "    .dataframe tbody tr th:only-of-type {\n",
       "        vertical-align: middle;\n",
       "    }\n",
       "\n",
       "    .dataframe tbody tr th {\n",
       "        vertical-align: top;\n",
       "    }\n",
       "\n",
       "    .dataframe thead th {\n",
       "        text-align: right;\n",
       "    }\n",
       "</style>\n",
       "<table border=\"1\" class=\"dataframe\">\n",
       "  <thead>\n",
       "    <tr style=\"text-align: right;\">\n",
       "      <th></th>\n",
       "      <th>id</th>\n",
       "      <th>age</th>\n",
       "      <th>education</th>\n",
       "      <th>sex</th>\n",
       "      <th>is_smoking</th>\n",
       "      <th>cigsPerDay</th>\n",
       "      <th>BPMeds</th>\n",
       "      <th>prevalentStroke</th>\n",
       "      <th>prevalentHyp</th>\n",
       "      <th>diabetes</th>\n",
       "      <th>totChol</th>\n",
       "      <th>sysBP</th>\n",
       "      <th>diaBP</th>\n",
       "      <th>BMI</th>\n",
       "      <th>heartRate</th>\n",
       "      <th>glucose</th>\n",
       "      <th>TenYearCHD</th>\n",
       "    </tr>\n",
       "  </thead>\n",
       "  <tbody>\n",
       "    <tr>\n",
       "      <th>0</th>\n",
       "      <td>0</td>\n",
       "      <td>64</td>\n",
       "      <td>2.0</td>\n",
       "      <td>F</td>\n",
       "      <td>YES</td>\n",
       "      <td>3.0</td>\n",
       "      <td>0.0</td>\n",
       "      <td>0</td>\n",
       "      <td>0</td>\n",
       "      <td>0</td>\n",
       "      <td>221.0</td>\n",
       "      <td>148.0</td>\n",
       "      <td>85.0</td>\n",
       "      <td>NaN</td>\n",
       "      <td>90.0</td>\n",
       "      <td>80.0</td>\n",
       "      <td>1</td>\n",
       "    </tr>\n",
       "    <tr>\n",
       "      <th>1</th>\n",
       "      <td>1</td>\n",
       "      <td>36</td>\n",
       "      <td>4.0</td>\n",
       "      <td>M</td>\n",
       "      <td>NO</td>\n",
       "      <td>0.0</td>\n",
       "      <td>0.0</td>\n",
       "      <td>0</td>\n",
       "      <td>1</td>\n",
       "      <td>0</td>\n",
       "      <td>212.0</td>\n",
       "      <td>168.0</td>\n",
       "      <td>98.0</td>\n",
       "      <td>29.77</td>\n",
       "      <td>72.0</td>\n",
       "      <td>75.0</td>\n",
       "      <td>0</td>\n",
       "    </tr>\n",
       "    <tr>\n",
       "      <th>2</th>\n",
       "      <td>2</td>\n",
       "      <td>46</td>\n",
       "      <td>1.0</td>\n",
       "      <td>F</td>\n",
       "      <td>YES</td>\n",
       "      <td>10.0</td>\n",
       "      <td>0.0</td>\n",
       "      <td>0</td>\n",
       "      <td>0</td>\n",
       "      <td>0</td>\n",
       "      <td>250.0</td>\n",
       "      <td>116.0</td>\n",
       "      <td>71.0</td>\n",
       "      <td>20.35</td>\n",
       "      <td>88.0</td>\n",
       "      <td>94.0</td>\n",
       "      <td>0</td>\n",
       "    </tr>\n",
       "    <tr>\n",
       "      <th>3</th>\n",
       "      <td>3</td>\n",
       "      <td>50</td>\n",
       "      <td>1.0</td>\n",
       "      <td>M</td>\n",
       "      <td>YES</td>\n",
       "      <td>20.0</td>\n",
       "      <td>0.0</td>\n",
       "      <td>0</td>\n",
       "      <td>1</td>\n",
       "      <td>0</td>\n",
       "      <td>233.0</td>\n",
       "      <td>158.0</td>\n",
       "      <td>88.0</td>\n",
       "      <td>28.26</td>\n",
       "      <td>68.0</td>\n",
       "      <td>94.0</td>\n",
       "      <td>1</td>\n",
       "    </tr>\n",
       "    <tr>\n",
       "      <th>4</th>\n",
       "      <td>4</td>\n",
       "      <td>64</td>\n",
       "      <td>1.0</td>\n",
       "      <td>F</td>\n",
       "      <td>YES</td>\n",
       "      <td>30.0</td>\n",
       "      <td>0.0</td>\n",
       "      <td>0</td>\n",
       "      <td>0</td>\n",
       "      <td>0</td>\n",
       "      <td>241.0</td>\n",
       "      <td>136.5</td>\n",
       "      <td>85.0</td>\n",
       "      <td>26.42</td>\n",
       "      <td>70.0</td>\n",
       "      <td>77.0</td>\n",
       "      <td>0</td>\n",
       "    </tr>\n",
       "  </tbody>\n",
       "</table>\n",
       "</div>"
      ],
      "text/plain": [
       "   id  age  education sex is_smoking  cigsPerDay  BPMeds  prevalentStroke  \\\n",
       "0   0   64        2.0   F        YES         3.0     0.0                0   \n",
       "1   1   36        4.0   M         NO         0.0     0.0                0   \n",
       "2   2   46        1.0   F        YES        10.0     0.0                0   \n",
       "3   3   50        1.0   M        YES        20.0     0.0                0   \n",
       "4   4   64        1.0   F        YES        30.0     0.0                0   \n",
       "\n",
       "   prevalentHyp  diabetes  totChol  sysBP  diaBP    BMI  heartRate  glucose  \\\n",
       "0             0         0    221.0  148.0   85.0    NaN       90.0     80.0   \n",
       "1             1         0    212.0  168.0   98.0  29.77       72.0     75.0   \n",
       "2             0         0    250.0  116.0   71.0  20.35       88.0     94.0   \n",
       "3             1         0    233.0  158.0   88.0  28.26       68.0     94.0   \n",
       "4             0         0    241.0  136.5   85.0  26.42       70.0     77.0   \n",
       "\n",
       "   TenYearCHD  \n",
       "0           1  \n",
       "1           0  \n",
       "2           0  \n",
       "3           1  \n",
       "4           0  "
      ]
     },
     "execution_count": 3,
     "metadata": {},
     "output_type": "execute_result"
    }
   ],
   "source": [
    "# Dataset First Look\n",
    "df = CRP_df.copy()\n",
    "df.head() # Having look at first five rows"
   ]
  },
  {
   "cell_type": "markdown",
   "metadata": {
    "id": "7hBIi_osiCS2"
   },
   "source": [
    "### Dataset Rows & Columns count"
   ]
  },
  {
   "cell_type": "code",
   "execution_count": 4,
   "metadata": {
    "colab": {
     "base_uri": "https://localhost:8080/"
    },
    "id": "Kllu7SJgmLij",
    "outputId": "65246e57-997f-452b-e6a3-7c957788e4d4"
   },
   "outputs": [
    {
     "data": {
      "text/plain": [
       "(17, 3390)"
      ]
     },
     "execution_count": 4,
     "metadata": {},
     "output_type": "execute_result"
    }
   ],
   "source": [
    "# Dataset Rows & Columns count\n",
    "df.shape[1],df.shape[0] # cheking the sahpe of data set i.e. No of rows and columns\n",
    "\n",
    "         # There are 17 columns and 3390 rows in the dataset."
   ]
  },
  {
   "cell_type": "markdown",
   "metadata": {
    "id": "JlHwYmJAmNHm"
   },
   "source": [
    "### Dataset Information"
   ]
  },
  {
   "cell_type": "code",
   "execution_count": 5,
   "metadata": {
    "colab": {
     "base_uri": "https://localhost:8080/"
    },
    "id": "e9hRXRi6meOf",
    "outputId": "d72b2887-f09e-465f-e8e8-66967725a0bb"
   },
   "outputs": [
    {
     "name": "stdout",
     "output_type": "stream",
     "text": [
      "<class 'pandas.core.frame.DataFrame'>\n",
      "RangeIndex: 3390 entries, 0 to 3389\n",
      "Data columns (total 17 columns):\n",
      " #   Column           Non-Null Count  Dtype  \n",
      "---  ------           --------------  -----  \n",
      " 0   id               3390 non-null   int64  \n",
      " 1   age              3390 non-null   int64  \n",
      " 2   education        3303 non-null   float64\n",
      " 3   sex              3390 non-null   object \n",
      " 4   is_smoking       3390 non-null   object \n",
      " 5   cigsPerDay       3368 non-null   float64\n",
      " 6   BPMeds           3346 non-null   float64\n",
      " 7   prevalentStroke  3390 non-null   int64  \n",
      " 8   prevalentHyp     3390 non-null   int64  \n",
      " 9   diabetes         3390 non-null   int64  \n",
      " 10  totChol          3352 non-null   float64\n",
      " 11  sysBP            3390 non-null   float64\n",
      " 12  diaBP            3390 non-null   float64\n",
      " 13  BMI              3376 non-null   float64\n",
      " 14  heartRate        3389 non-null   float64\n",
      " 15  glucose          3086 non-null   float64\n",
      " 16  TenYearCHD       3390 non-null   int64  \n",
      "dtypes: float64(9), int64(6), object(2)\n",
      "memory usage: 450.4+ KB\n"
     ]
    }
   ],
   "source": [
    "# Dataset Info\n",
    "df.info()"
   ]
  },
  {
   "cell_type": "markdown",
   "metadata": {
    "id": "XPrXkqu7a497"
   },
   "source": [
    "* df.info() Function gives the overall info of dataset which contains columns name, no of columns, datatype of columns and non null counts of entry in the form of dataframe.\n",
    "* This data set has float64-9, int64-6-, object-2 i.e 17 columns with 3390 rows."
   ]
  },
  {
   "cell_type": "markdown",
   "metadata": {
    "id": "35m5QtbWiB9F"
   },
   "source": [
    "#### Duplicate Values"
   ]
  },
  {
   "cell_type": "code",
   "execution_count": 6,
   "metadata": {
    "colab": {
     "base_uri": "https://localhost:8080/"
    },
    "id": "1sLdpKYkmox0",
    "outputId": "9c895ec2-e3a9-4fdc-b695-45b89f2301f3"
   },
   "outputs": [
    {
     "data": {
      "text/plain": [
       "0"
      ]
     },
     "execution_count": 6,
     "metadata": {},
     "output_type": "execute_result"
    }
   ],
   "source": [
    "# Dataset Duplicate Value Count\n",
    "df.duplicated().sum()"
   ]
  },
  {
   "cell_type": "markdown",
   "metadata": {
    "id": "PoPl-ycgm1ru"
   },
   "source": [
    "#### Missing Values/Null Values"
   ]
  },
  {
   "cell_type": "code",
   "execution_count": 7,
   "metadata": {
    "colab": {
     "base_uri": "https://localhost:8080/"
    },
    "id": "GgHWkxvamxVg",
    "outputId": "7c68fb26-7d66-4cf5-fa50-14d1949b5109"
   },
   "outputs": [
    {
     "data": {
      "text/plain": [
       "id                   0\n",
       "age                  0\n",
       "education           87\n",
       "sex                  0\n",
       "is_smoking           0\n",
       "cigsPerDay          22\n",
       "BPMeds              44\n",
       "prevalentStroke      0\n",
       "prevalentHyp         0\n",
       "diabetes             0\n",
       "totChol             38\n",
       "sysBP                0\n",
       "diaBP                0\n",
       "BMI                 14\n",
       "heartRate            1\n",
       "glucose            304\n",
       "TenYearCHD           0\n",
       "dtype: int64"
      ]
     },
     "execution_count": 7,
     "metadata": {},
     "output_type": "execute_result"
    }
   ],
   "source": [
    "# Missing Values/Null Values Count\n",
    "df.isnull().sum()"
   ]
  },
  {
   "cell_type": "code",
   "execution_count": 8,
   "metadata": {
    "colab": {
     "base_uri": "https://localhost:8080/",
     "height": 420
    },
    "id": "EG1ytgP4hOGn",
    "outputId": "96836d52-c0b9-469f-cbf2-a502f5f678e7"
   },
   "outputs": [
    {
     "data": {
      "text/plain": [
       "<AxesSubplot:>"
      ]
     },
     "execution_count": 8,
     "metadata": {},
     "output_type": "execute_result"
    },
    {
     "data": {
      "image/png": "[encoded data removed]",
      "text/plain": [
       "<Figure size 864x144 with 3 Axes>"
      ]
     },
     "metadata": {
      "needs_background": "light"
     },
     "output_type": "display_data"
    }
   ],
   "source": [
    "import missingno as msno    # Visualizing the missing valuesimport missingno as msno  this library can be used to check missing values in df\n",
    "msno.bar(df,figsize=(12,2)) # By using bar graph we cna visuvalize the missing values in dataset and in this dataset no null values are there"
   ]
  },
  {
   "cell_type": "code",
   "execution_count": 9,
   "metadata": {
    "colab": {
     "base_uri": "https://localhost:8080/"
    },
    "id": "OYQMuDB2cX4x",
    "outputId": "a32c981d-a054-4eb0-cb1b-993a323ea152"
   },
   "outputs": [
    {
     "data": {
      "text/plain": [
       "['education', 'cigsPerDay', 'BPMeds', 'totChol', 'BMI', 'heartRate', 'glucose']"
      ]
     },
     "execution_count": 9,
     "metadata": {},
     "output_type": "execute_result"
    }
   ],
   "source": [
    "nan_cols = [i for i in df.columns if df[i].isnull().sum() > 0]\n",
    "nan_cols"
   ]
  },
  {
   "cell_type": "code",
   "execution_count": null,
   "metadata": {
    "colab": {
     "base_uri": "https://localhost:8080/",
     "height": 383
    },
    "id": "3q5wnI3om9sJ",
    "outputId": "b6ba89a7-a426-40f4-ec94-cc2d27863844"
   },
   "outputs": [],
   "source": [
    "sns.heatmap(df.isnull(), cbar=False) # Visualizing the missing values"
   ]
  },
  {
   "cell_type": "markdown",
   "metadata": {
    "id": "H0kj-8xxnORC"
   },
   "source": [
    "### What did you know about your dataset?"
   ]
  },
  {
   "cell_type": "markdown",
   "metadata": {
    "id": "gfoNAAC-nUe_"
   },
   "source": [
    "After performing various opearation on the dattset, till now follwing are the some observation can be made about the dataset.\n",
    "\n",
    "Dataset has 17 columns and 3390 rows.\n",
    "\n",
    "Among the 17 columns the datatypes of the columns are float64-9, int64-6-, object-2.\n",
    "\n",
    "The dataset has missing values in the columns education, cigs per day, BP meds, totChol, BMI, heart rate and glucose.\n",
    "\n",
    "There are no duplicated columns but various columns may have duplcated vales."
   ]
  },
  {
   "cell_type": "markdown",
   "metadata": {
    "id": "nA9Y7ga8ng1Z"
   },
   "source": [
    "## ***2. Understanding Your Variables***"
   ]
  },
  {
   "cell_type": "code",
   "execution_count": null,
   "metadata": {
    "colab": {
     "base_uri": "https://localhost:8080/"
    },
    "id": "j7xfkqrt5Ag5",
    "outputId": "fa4cb8f5-04dc-4320-e9d8-c7c227fdeb58"
   },
   "outputs": [],
   "source": [
    "# Dataset Columns\n",
    "df.columns"
   ]
  },
  {
   "cell_type": "code",
   "execution_count": null,
   "metadata": {
    "colab": {
     "base_uri": "https://localhost:8080/",
     "height": 364
    },
    "id": "DnOaZdaE5Q5t",
    "outputId": "73784897-b065-4eed-e72e-5f0377f3249b"
   },
   "outputs": [],
   "source": [
    "# Dataset Describe\n",
    "df.describe(include=\"all\") # used to generate descriptive statistics for a DataFrame. (all for both catagorical and numerical values)"
   ]
  },
  {
   "cell_type": "markdown",
   "metadata": {
    "id": "PBTbrJXOngz2"
   },
   "source": [
    "### Variables Description"
   ]
  },
  {
   "cell_type": "markdown",
   "metadata": {
    "id": "aJV4KIxSnxay"
   },
   "source": [
    "The dataset includes various features related to patients' health and lifestyle like Demographic,Behavioral,Medical history and current condition and one dependent variable. Again each row of these data contains a unique patient and includes attributes such as age, sex, general health, checkup frequency, exercise habits, and smoking history.\n",
    "\n",
    "**Demographic:**\n",
    "\n",
    "1. **Sex:** male or female (\"M\" or \"F\")\n",
    "2. **Age:** Age of the patient (Continuous - Although the recorded ages have been truncated to whole numbers, the concept of age is continuous)\n",
    "3. **Education:** The level of education of the patient (categorical values - 1,2,3,4)\n",
    "\n",
    "**Behavioral:**\n",
    "\n",
    "1. **is_smoking:** whether or not the patient is a current smoker (\"YES\" or \"NO\")\n",
    "2. **Cigs Per Day:** the number of cigarettes that the person smoked on average in one day.(can be considered continuous as one can have any number of cigarettes, even half a cigarette.)\n",
    "\n",
    "**Medical history:**\n",
    "\n",
    "1. **BP Meds:** whether or not the patient was on blood pressure medication (Nominal)\n",
    "2. **Prevalent Stroke:** whether or not the patient had previously had a stroke (Nominal)\n",
    "3. **Prevalent Hyp:** whether or not the patient was hypertensive (Nominal)\n",
    "Diabetes: whether or not the patient had diabetes (Nominal)\n",
    "\n",
    "**Medical current condition:**\n",
    "\n",
    "1. **Tot Chol:** total cholesterol level (Continuous)\n",
    "2. **Sys BP:** systolic blood pressure (Continuous)\n",
    "3. **Dia BP:** diastolic blood pressure (Continuous)\n",
    "4. **BMI:** Body Mass Index (Continuous)\n",
    "5. **Heart Rate:** heart rate (Continuous - In medical research, variables such as heart rate though in fact discrete, yet are considered continuous because of large number of possible values.)\n",
    "6. **Glucose:** glucose level (Continuous)\n",
    "\n",
    "**Dependent variable (Target Variable):** 10-year risk of coronary heart disease CHD(binary: “1”, means “Yes”, “0” means “No”)"
   ]
  },
  {
   "cell_type": "markdown",
   "metadata": {
    "id": "u3PMJOP6ngxN"
   },
   "source": [
    "### Check Unique Values for each variable."
   ]
  },
  {
   "cell_type": "code",
   "execution_count": null,
   "metadata": {
    "colab": {
     "base_uri": "https://localhost:8080/"
    },
    "id": "zms12Yq5n-jE",
    "outputId": "572ae4e9-6c11-44d9-aa90-e49dadd43319"
   },
   "outputs": [],
   "source": [
    "# Check Unique Values for each variable.\n",
    "for column in df.columns: # By using for loop we can iterate through the dataframe to get unique values from each column.\n",
    "  print(f\"{df[column].nunique()} Unique values are in column {column} and their percentage is \\n {(df[column].nunique()/len(df))*100}'%'.\")"
   ]
  },
  {
   "cell_type": "markdown",
   "metadata": {
    "id": "dauF4eBmngu3"
   },
   "source": [
    "## 3. ***Data Wrangling***\n",
    "\n",
    "Some names of the variables are not relevant and not easy to understand. Some data may have data entry errors, and some variables may need data type conversion and we need to fix this issue in the data and this is reffered as the \"Data Wrangling\" process.\n",
    "\n",
    "This need to be done before EDA as it will help to perform EDA effectively."
   ]
  },
  {
   "cell_type": "markdown",
   "metadata": {
    "id": "bKJF3rekwFvQ"
   },
   "source": [
    "### Data Wrangling Code"
   ]
  },
  {
   "cell_type": "code",
   "execution_count": null,
   "metadata": {
    "colab": {
     "base_uri": "https://localhost:8080/"
    },
    "id": "wk-9a2fpoLcV",
    "outputId": "e6efed73-ee9a-4fe4-c389-e886377c7ddd"
   },
   "outputs": [],
   "source": [
    "# Write your code to make your dataset analysis ready.\n",
    "df.columns"
   ]
  },
  {
   "cell_type": "code",
   "execution_count": null,
   "metadata": {
    "colab": {
     "base_uri": "https://localhost:8080/"
    },
    "id": "pLz3rDoyvU2j",
    "outputId": "38e8f1f9-23aa-4c8f-a04b-cb85c60a575e"
   },
   "outputs": [],
   "source": [
    "df.rename(columns={'cigsPerDay':'cigs_per_day','BPMeds':'bp_meds','prevalentStroke':'prevalent_stroke','prevalentHyp':'prevalent_hyp',\n",
    "                   'totChol':'total_cholesterol','sysBP':'systolic_bp','diaBP':'diastolic_bp','BMI':'bmi','heartRate':'heart_rate',\n",
    "                   'TenYearCHD':'ten_year_chd'},inplace = True) # Renaming the column those who are inappropriate name\n",
    "df.columns"
   ]
  },
  {
   "cell_type": "code",
   "execution_count": null,
   "metadata": {},
   "outputs": [],
   "source": [
    "df.drop(columns=\"id\",inplace=True)"
   ]
  },
  {
   "cell_type": "code",
   "execution_count": null,
   "metadata": {
    "colab": {
     "base_uri": "https://localhost:8080/"
    },
    "id": "yL1mQ3devyuX",
    "outputId": "2e3a0059-91bb-4ac2-8d2a-f10d1b58687e"
   },
   "outputs": [],
   "source": [
    "cat_col = [i for i in df.columns if df[i].nunique()<=4]\n",
    "cont_col = [i for i in df.columns if i not in cat_col] # identifying the numerical and categorical columns\n",
    "print(f\"List of Categorical columns {cat_col} \\nList of Continiouse columns {cont_col}\") # ten_year_chd is dependent variable."
   ]
  },
  {
   "cell_type": "markdown",
   "metadata": {
    "id": "MSa1f5Uengrz"
   },
   "source": [
    "### What all manipulations have you done and insights you found?"
   ]
  },
  {
   "cell_type": "markdown",
   "metadata": {
    "id": "LbyXE7I1olp8"
   },
   "source": [
    "As part of making the data easier to work with, we have renamed all the columns in the dataset. Additionally, we have identified and categorized the different types of variables to simplify the process of plotting graphs.\n",
    "\n",
    "Droped id columns which has all are unique values which will not help for anything.\n",
    "\n",
    "By renaming columns and categorizing variables, we can easily navigate and analyze the dataset, and plotting graphs becomes a more straightforward task, making the overall analysis process more efficient and intuitive."
   ]
  },
  {
   "cell_type": "markdown",
   "metadata": {
    "id": "GF8Ens_Soomf"
   },
   "source": [
    "## ***4. Data Vizualization, Storytelling & Experimenting with charts : Understand the relationships between variables***"
   ]
  },
  {
   "cell_type": "markdown",
   "metadata": {},
   "source": [
    "**Univariate Analysis:** Inspecting each variable individually to understand its distribution and potential outliers. This will provide insights into the characteristics of each variable and help identify any extreme values or anomalies."
   ]
  },
  {
   "cell_type": "markdown",
   "metadata": {
    "id": "0wOQAZs5pc--"
   },
   "source": [
    "#### Chart - 1 Visualization of Dependent Variable (ten_year_chd) {Univariate A}"
   ]
  },
  {
   "cell_type": "code",
   "execution_count": null,
   "metadata": {
    "colab": {
     "base_uri": "https://localhost:8080/"
    },
    "id": "7v_ESjsspbW7",
    "outputId": "cb056e45-f55d-44e3-a4fe-79b7c6993660"
   },
   "outputs": [],
   "source": [
    "# Chart - 1 visualization code\n",
    "print(\"Total no. of coronary heart disease :\", df.ten_year_chd.count())\n",
    "per_chd = (df[df['ten_year_chd']==True].ten_year_chd.count())/df.ten_year_chd.count()*100 # % of total customers churning\n",
    "print(f\"Percentage of having coronary heart disease : {round(per_chd,2)}%\")"
   ]
  },
  {
   "cell_type": "code",
   "execution_count": null,
   "metadata": {
    "colab": {
     "base_uri": "https://localhost:8080/",
     "height": 112
    },
    "id": "CzKb2DlkWx6f",
    "outputId": "31f19730-0cbc-4d15-9d0c-7efca2d836b1"
   },
   "outputs": [],
   "source": [
    "CHD_Y = pd.DataFrame(df['ten_year_chd'].value_counts())\n",
    "CHD_Y['CHD Rate'] = round(CHD_Y*100/len(df),2) # Check for how many customer leave the company (Churn)\n",
    "CHD_Y"
   ]
  },
  {
   "cell_type": "code",
   "execution_count": null,
   "metadata": {
    "colab": {
     "base_uri": "https://localhost:8080/",
     "height": 367
    },
    "id": "giQ_NGL0Ulk3",
    "outputId": "c6c77813-d3f3-4e41-a0a0-6b9948543031"
   },
   "outputs": [],
   "source": [
    "df['ten_year_chd'].value_counts().plot( kind='pie',figsize=(12,4),autopct=\"%1.1f%%\",startangle=50,shadow=True,\n",
    "labels=['NO','YES'], colors=['green','red'],explode=[0.12,0])\n",
    "plt.title('Total having ten year CHD')   # Dependent Variable Column Visualization\n",
    "plt.show()"
   ]
  },
  {
   "cell_type": "markdown",
   "metadata": {
    "id": "K5QZ13OEpz2H"
   },
   "source": [
    "##### 1. Why did you pick the specific chart?"
   ]
  },
  {
   "cell_type": "markdown",
   "metadata": {
    "id": "XESiWehPqBRc"
   },
   "source": [
    "Pie charts are a type of graph that show how parts of a whole relate to each other. They are useful when you want to display data that represents percentages or proportions in an easy-to-understand and visually appealing way."
   ]
  },
  {
   "cell_type": "markdown",
   "metadata": {
    "id": "lQ7QKXXCp7Bj"
   },
   "source": [
    "##### 2. What is/are the insight(s) found from the chart?"
   ]
  },
  {
   "cell_type": "markdown",
   "metadata": {
    "id": "C_j1G7yiqdRP"
   },
   "source": [
    "From the chart we can conclude that Out of these 3,390 records, 511 records (approximately 15.1%) are classified as positive for 10-year CHD risk, the remaining 2,879 records (approximately 84.9%) are classified as negative for 10-year CHD risk, indicating that they are predicted to have a lower risk or no risk of developing coronary heart disease in the next 10 years."
   ]
  },
  {
   "cell_type": "markdown",
   "metadata": {
    "id": "448CDAPjqfQr"
   },
   "source": [
    "##### 3. Will the gained insights help creating a positive business impact?\n",
    "Are there any insights that lead to negative growth? Justify with specific reason."
   ]
  },
  {
   "cell_type": "markdown",
   "metadata": {
    "id": "3cspy4FjqxJW"
   },
   "source": [
    "This distribution of positive and negative cases is essential in understanding the class balance of the dataset, which is crucial for evaluating the performance of machine learning models, especially in cases where the classes are imbalanced."
   ]
  },
  {
   "cell_type": "markdown",
   "metadata": {
    "id": "KSlN3yHqYklG"
   },
   "source": [
    "#### Chart - 2"
   ]
  },
  {
   "cell_type": "code",
   "execution_count": null,
   "metadata": {
    "colab": {
     "base_uri": "https://localhost:8080/",
     "height": 1000
    },
    "id": "R4YgtaqtYklH",
    "outputId": "c3235dd0-b361-468b-e1e0-a6c0e72b8b35"
   },
   "outputs": [],
   "source": [
    "# Chart - 2 visualization code\n",
    "for col in df.describe().columns: \n",
    "    fig,axes = plt.subplots(nrows=1,ncols=2,figsize=(18,6))\n",
    "    sns.histplot(df[col], ax = axes[0],kde = True)  # used to see distrubution\n",
    "    sns.boxplot(df[col], ax = axes[1],orient='h',showmeans=True,color='pink')\n",
    "    fig.suptitle(\"Distribution plot of \"+ col, fontsize = 15)\n",
    "    plt.show()"
   ]
  },
  {
   "cell_type": "markdown",
   "metadata": {
    "id": "t6dVpIINYklI"
   },
   "source": [
    "##### 1. Why did you pick the specific chart?"
   ]
  },
  {
   "cell_type": "markdown",
   "metadata": {
    "id": "5aaW0BYyYklI"
   },
   "source": [
    "When we want to show how a single variable is spread out, we use histograms. Histograms are like bar charts but specifically designed to display the frequency or count of data points within specific ranges. They work best for continuous data, such as age, height, weight, or income. By using histograms, we can visualize the shape of the distribution, identify any skewness or outliers, and observe patterns or trends in the data.\n",
    "\n",
    "On the other hand, when we want to compare the distributions of multiple datasets, we use box plots, also known as box-and-whisker plots. Box plots provide a concise summary of key statistical properties, like the spread and central tendency of the data. They help us understand the differences or similarities between the datasets and spot any potential outliers."
   ]
  },
  {
   "cell_type": "markdown",
   "metadata": {
    "id": "ijmpgYnKYklI"
   },
   "source": [
    "##### 2. What is/are the insight(s) found from the chart?"
   ]
  },
  {
   "cell_type": "markdown",
   "metadata": {
    "id": "PSx9atu2YklI"
   },
   "source": [
    "From the distribution we see that most of the columns are normally distributed, some of them are skewed and we can see some of the categorical columns also. In the box plot, we see some outliers also which we have to handle before model building."
   ]
  },
  {
   "cell_type": "markdown",
   "metadata": {
    "id": "-JiQyfWJYklI"
   },
   "source": [
    "##### 3. Will the gained insights help creating a positive business impact?\n",
    "Are there any insights that lead to negative growth? Justify with specific reason."
   ]
  },
  {
   "cell_type": "markdown",
   "metadata": {
    "id": "BcBbebzrYklV"
   },
   "source": [
    "Histogram and Box plot cannot give us whole information regarding data. It's done just to see the distribution of the column data over the dataset."
   ]
  },
  {
   "cell_type": "markdown",
   "metadata": {
    "id": "EM7whBJCYoAo"
   },
   "source": [
    "#### Chart - 3 Categorical variables vs Dependent variables"
   ]
  },
  {
   "cell_type": "code",
   "execution_count": null,
   "metadata": {
    "colab": {
     "base_uri": "https://localhost:8080/",
     "height": 1000
    },
    "id": "t6GMdE67YoAp",
    "outputId": "fb985ffb-28a1-4390-c99a-ddf3ecb908d9"
   },
   "outputs": [],
   "source": [
    "# Chart - 3 visualization code\n",
    "for i in cat_col[0:-1]: # excluding dependent variable\n",
    "  plt.figure(figsize=(10,8))\n",
    "  p = sns.countplot(x=i, data = df)\n",
    "  plt.xlabel(i)\n",
    "  plt.ylabel(\"count of ten year chd\")\n",
    "  plt.title('Relationship between ' + \"ten year chd\" + ' and ' + i)\n",
    "  for i in p.patches:\n",
    "    p.annotate(f'{i.get_height()}', (i.get_x() + i.get_width() / 2., i.get_height()), ha = 'center', va = 'center', xytext = (0, 10),\n",
    "    textcoords = 'offset points')\n",
    "  plt.show()"
   ]
  },
  {
   "cell_type": "markdown",
   "metadata": {
    "id": "fge-S5ZAYoAp"
   },
   "source": [
    "##### 1. Why did you pick the specific chart?"
   ]
  },
  {
   "cell_type": "markdown",
   "metadata": {
    "id": "5dBItgRVYoAp"
   },
   "source": [
    "Bar charts are used to compare different categories or groups of data by showing their size or frequency. They are helpful when you want to compare data across different categories quickly. In this case, we use a bar chart to display the average percentage of true churn for different states. This helps us see how churn rates vary across states and make informed decisions based on the visual information presented in the chart."
   ]
  },
  {
   "cell_type": "markdown",
   "metadata": {
    "id": "85gYPyotYoAp"
   },
   "source": [
    "##### 2. What is/are the insight(s) found from the chart?"
   ]
  },
  {
   "cell_type": "markdown",
   "metadata": {
    "id": "4jstXR6OYoAp"
   },
   "source": [
    "From the analysis of categorical columns in the dataset, we can observe the following distributions:\n",
    "\n",
    "1. **Education Column:**\n",
    "The category labeled as \"1\" has the highest count, followed by categories \"2,\" \"3,\" and \"4.\" This suggests that the majority of patients fall into the \"1\" category for education, while fewer patients are in the higher education categories.\n",
    "\n",
    "2. **Gender Distribution:**\n",
    "The distribution of gender is not even, with a higher count for females. This indicates that there are more female patients in the dataset compared to male patients.\n",
    "\n",
    "3. **Smoking Column:**\n",
    "The distribution of the \"is_smoking\" column is balanced, meaning there are roughly an equal number of smokers and non-smokers in the dataset.\n",
    "Imbalanced Columns:\n",
    "\n",
    "4. Columns \"bp_meds,\" \"prevalent_stroke,\" \"prevalent_hyp,\" and \"diabetes\" exhibit imbalanced distributions. This means that there are very few positive cases (where the condition is true) compared to the negative cases (where the condition is false) for these columns."
   ]
  },
  {
   "cell_type": "markdown",
   "metadata": {
    "id": "RoGjAbkUYoAp"
   },
   "source": [
    "##### 3. Will the gained insights help creating a positive business impact?\n",
    "Are there any insights that lead to negative growth? Justify with specific reason."
   ]
  },
  {
   "cell_type": "markdown",
   "metadata": {
    "id": "zfJ8IqMcYoAp"
   },
   "source": [
    "Answer Here"
   ]
  },
  {
   "cell_type": "markdown",
   "metadata": {
    "id": "4Of9eVA-YrdM"
   },
   "source": [
    "#### Chart - 4 Continuous variables vs Dependent variable  "
   ]
  },
  {
   "cell_type": "code",
   "execution_count": null,
   "metadata": {
    "colab": {
     "base_uri": "https://localhost:8080/",
     "height": 1000
    },
    "id": "irlUoxc8YrdO",
    "outputId": "f7ea332c-63d4-490b-dbdd-050690d098e4"
   },
   "outputs": [],
   "source": [
    "# Chart - 4 visualization code\n",
    "for i in cont_col[1:]:\n",
    "  plt.figure(figsize=(12,10))\n",
    "  sns.catplot(data=df, x=\"ten_year_chd\",y=i, hue=\"ten_year_chd\", kind='violin')\n",
    "  plt.ylabel(i)\n",
    "  plt.xlabel(\"ten year chd\")\n",
    "  plt.title('Relationship between ' + \"ten year chd\" + ' and ' + i)\n",
    "  plt.show()\n"
   ]
  },
  {
   "cell_type": "markdown",
   "metadata": {
    "id": "iky9q4vBYrdO"
   },
   "source": [
    "##### 1. Why did you pick the specific chart?"
   ]
  },
  {
   "cell_type": "markdown",
   "metadata": {
    "id": "aJRCwT6DYrdO"
   },
   "source": [
    "The violin chart is a data visualization that combines characteristics of a box plot and a kernel density plot. Its purpose is to showcase the distribution and density of data among various categories or groups. \n",
    "\n",
    "Notable features of the violin chart include:\n",
    "\n",
    "**Shape and Width:** The violin's shape reflects the data distribution, often displaying a symmetrical mirrored shape. The width at different points represents data density.\n",
    "\n",
    "**Quartiles and Median:** The central \"box\" inside the violin signifies the interquartile range (IQR) and contains the median value, providing insights into data spread and central tendency.\n",
    "\n",
    "**Grouping and Comparison:** Violin charts allow grouping or side-by-side arrangement to compare distributions across different categories or groups. This facilitates visual comparison of data distribution shapes, spreads, and densities.\n",
    "\n",
    "Foe this reasons one can use violin chart."
   ]
  },
  {
   "cell_type": "markdown",
   "metadata": {
    "id": "F6T5p64dYrdO"
   },
   "source": [
    "##### 2. What is/are the insight(s) found from the chart?"
   ]
  },
  {
   "cell_type": "markdown",
   "metadata": {
    "id": "Xx8WAJvtYrdO"
   },
   "source": [
    "In the \"age vs. ten_year_chd\" comparison, we observe that the density of positive cases is higher at older ages, indicating a higher occurrence of coronary heart disease (CHD) in older individuals.\n",
    "\n",
    "For \"cigs_per_day,\" we notice that negative cases are more prevalent among non-smokers, while positive cases are relatively lower for non-smokers.\n",
    "\n",
    "In the case of \"ten_year_chd\" and \"glucose,\" the density of negative cases is higher compared to positive cases for the same glucose value. This suggests that individuals without CHD have a higher occurrence at similar glucose levels. As for the other charts, they don't reveal substantial information or notable patterns for the given analysis."
   ]
  },
  {
   "cell_type": "markdown",
   "metadata": {
    "id": "y-Ehk30pYrdP"
   },
   "source": [
    "##### 3. Will the gained insights help creating a positive business impact?\n",
    "Are there any insights that lead to negative growth? Justify with specific reason."
   ]
  },
  {
   "cell_type": "markdown",
   "metadata": {
    "id": "jLNxxz7MYrdP"
   },
   "source": [
    " The chart shows that older people have a higher risk of heart disease, businesses can create targeted measures to help them. \n",
    " Also,non-smokers have lower heart disease risk, businesses can design campaigns to promote quitting smoking. Although these insights are valuable, implementing them effectively will be crucial for positive business impact."
   ]
  },
  {
   "cell_type": "markdown",
   "metadata": {
    "id": "bamQiAODYuh1"
   },
   "source": [
    "#### Chart - 5 Categorical variables vs Dependent variable  "
   ]
  },
  {
   "cell_type": "code",
   "execution_count": null,
   "metadata": {
    "colab": {
     "base_uri": "https://localhost:8080/",
     "height": 1000
    },
    "id": "TIJwrbroYuh3",
    "outputId": "556b7bbc-de4a-420b-ef18-66bf143238f2"
   },
   "outputs": [],
   "source": [
    "# Chart - 5 visualization code\n",
    "for i in cat_col[:-1]:\n",
    "    x_var, y_var = i, \"ten_year_chd\"\n",
    "    plt.figure(figsize=(10,5))\n",
    "    df_grouped = df.groupby(x_var)[y_var].value_counts(normalize=True).unstack(y_var)*100\n",
    "    plots = df_grouped.plot.bar(stacked=True)\n",
    "    plt.legend(bbox_to_anchor=(1.05, 1),loc=\"upper left\", title=\"ten year CHD\")\n",
    "    plt.title(\"% of patients at the risk of CHD by: \"+i)\n",
    "    for bar in plots.patches:\n",
    "      plots.annotate(format(bar.get_height(),'.2f'),(bar.get_x() + bar.get_width() / 2,bar.get_height()), ha='center', va='center', size=12,\n",
    "                 xytext=(0, 8), textcoords='offset points')\n",
    "    plt.show()"
   ]
  },
  {
   "cell_type": "markdown",
   "metadata": {
    "id": "QHF8YVU7Yuh3"
   },
   "source": [
    "##### 1. Why did you pick the specific chart?"
   ]
  },
  {
   "cell_type": "markdown",
   "metadata": {
    "id": "dcxuIMRPYuh3"
   },
   "source": [
    "Stacked bar graphs in Python are used to compare multiple categories within each group, showing proportions and part-to-whole relationships in data visualization. It provoid easy comparison of proportions and distribution across categories in percentage representation."
   ]
  },
  {
   "cell_type": "markdown",
   "metadata": {
    "id": "GwzvFGzlYuh3"
   },
   "source": [
    "##### 2. What is/are the insight(s) found from the chart?"
   ]
  },
  {
   "cell_type": "markdown",
   "metadata": {
    "id": "uyqkiB8YYuh3"
   },
   "source": [
    "Percentage of CHD by education shows little variation among education categories.\n",
    "\n",
    "Male sex is associated with a slightly higher chance of CHD compared to females.\n",
    "\n",
    "Positive is_smoking category displays a slightly higher percentage of CHD.\n",
    "\n",
    "Positive cases of bp_meds and diabetes are linked to a higher percentage of CHD compared to negative cases.\n",
    "\n",
    "Positive prevalent_stroke has approximately double the percentage, indicating a higher CHD occurrence in such cases."
   ]
  },
  {
   "cell_type": "markdown",
   "metadata": {
    "id": "qYpmQ266Yuh3"
   },
   "source": [
    "##### 3. Will the gained insights help creating a positive business impact?\n",
    "Are there any insights that lead to negative growth? Justify with specific reason."
   ]
  },
  {
   "cell_type": "markdown",
   "metadata": {
    "id": "_WtzZ_hCYuh4"
   },
   "source": [
    "The chart shows how CHD is related to different categories, like education, sex, smoking, etc. These insights can help businesses create specific strategies to address high-risk groups. For example, they can design campaigns or treatments to reduce CHD in those groups. By using these insights, healthcare businesses can improve patient outcomes and grow positively.\n",
    "\n",
    "There are no specific insights from the chart that directly lead to negative growth. However, it's essential to consider the overall CHD prevalence and the effectiveness of interventions. If CHD remains high and strategies don't work, it could lead to negative growth due to increased costs and patient dissatisfaction. So, the actual business impact depends on successful strategies based on chart insights."
   ]
  },
  {
   "cell_type": "markdown",
   "metadata": {
    "id": "OH-pJp9IphqM"
   },
   "source": [
    "#### Chart - 6 Correlation Heatmap visualization code"
   ]
  },
  {
   "cell_type": "code",
   "execution_count": null,
   "metadata": {
    "colab": {
     "base_uri": "https://localhost:8080/",
     "height": 584
    },
    "id": "fGSY8Ig2zHTR",
    "outputId": "7a65e735-b61e-4ebc-a6a5-779a67dd1ae7"
   },
   "outputs": [],
   "source": [
    "corr = df.corr()\n",
    "corr"
   ]
  },
  {
   "cell_type": "code",
   "execution_count": null,
   "metadata": {
    "colab": {
     "base_uri": "https://localhost:8080/",
     "height": 757
    },
    "id": "6xpvnIz8y--o",
    "outputId": "8c4d3b47-1d15-41d1-afad-023aeadc74ab"
   },
   "outputs": [],
   "source": [
    "'''corr = df.corr()\n",
    "mask = np.zeros_like(corr)\n",
    "mask[np.triu_indices_from(mask)] = True\n",
    "with sns.axes_style(\"white\"):\n",
    "    f, ax = plt.subplots(figsize=(18, 9))\n",
    "    ax = sns.heatmap(corr , mask=mask, vmin = -1,vmax=1, annot = True, cmap=\"YlGnBu\")'''"
   ]
  },
  {
   "cell_type": "markdown",
   "metadata": {
    "id": "bbFf2-_FphqN"
   },
   "source": [
    "##### 1. Why did you pick the specific chart?"
   ]
  },
  {
   "cell_type": "markdown",
   "metadata": {
    "id": "loh7H2nzphqN"
   },
   "source": [
    "The correlation coefficient is a measure of how strongly two variables are related in a linear manner. It ranges from -1 to +1, where -1 indicates a perfect negative relationship, +1 indicates a perfect positive relationship, and 0 indicates no linear relationship.\n",
    "\n",
    "To understand the relationships between all the variables and their correlation coefficients, we use a correlation heatmap. This heatmap visually represents the correlation values between pairs of variables, with colors indicating the strength and direction of the relationships. It helps in data exploration and deciding which variables to include in a model"
   ]
  },
  {
   "cell_type": "markdown",
   "metadata": {
    "id": "_ouA3fa0phqN"
   },
   "source": [
    "##### 2. What is/are the insight(s) found from the chart?"
   ]
  },
  {
   "cell_type": "markdown",
   "metadata": {
    "id": "VECbqPI7phqN"
   },
   "source": [
    "In the data, we observe a high correlation between systolic_bp and diastolic_bp, indicating that these two variables are strongly related. Similarly, diabetes and glucose have a correlation coefficient of 0.62, suggesting a moderate positive relationship.\n",
    "\n",
    "Since education level does not seem to have a significant impact on acquiring CHD, we can consider dropping the education column from the analysis to simplify the dataset and potentially improve model performance."
   ]
  },
  {
   "cell_type": "markdown",
   "metadata": {
    "id": "DW4_bGpfphqN"
   },
   "source": [
    "Answer Here"
   ]
  },
  {
   "cell_type": "markdown",
   "metadata": {
    "id": "PIIx-8_IphqN"
   },
   "source": [
    "#### Chart - 7 Pair Plot"
   ]
  },
  {
   "cell_type": "code",
   "execution_count": null,
   "metadata": {
    "colab": {
     "base_uri": "https://localhost:8080/",
     "height": 1000
    },
    "id": "lqAIGUfyphqO",
    "outputId": "b9ecb72f-691c-4dce-cc24-168efbe5de92"
   },
   "outputs": [],
   "source": [
    "# Chart - 7 visualization code\n",
    "'''sns.pairplot(df, hue=\"ten_year_chd\")\n",
    "plt.show()'''"
   ]
  },
  {
   "cell_type": "markdown",
   "metadata": {
    "id": "t27r6nlMphqO"
   },
   "source": [
    "##### 1. Why did you pick the specific chart?"
   ]
  },
  {
   "cell_type": "markdown",
   "metadata": {
    "id": "iv6ro40sphqO"
   },
   "source": [
    "A pairplot, also called a scatterplot matrix, is a visual tool that helps explore the relationships between all pairs of variables in a dataset. It provides a graphical representation of the data patterns and relationships between different features. It serves a similar purpose to the correlation map, but instead of numerical values, you get visual plots that show how the variables are related to one another. It's a great way to quickly understand the overall data structure and identify potential correlations between variables."
   ]
  },
  {
   "cell_type": "markdown",
   "metadata": {
    "id": "r2jJGEOYphqO"
   },
   "source": [
    "##### 2. What is/are the insight(s) found from the chart?"
   ]
  },
  {
   "cell_type": "markdown",
   "metadata": {
    "id": "Po6ZPi4hphqO"
   },
   "source": [
    "We see that the cigs_per_day data distribution is highly skewed and it contains high 0 value so we can convert this into categorical column."
   ]
  },
  {
   "cell_type": "markdown",
   "metadata": {
    "id": "g-ATYxFrGrvw"
   },
   "source": [
    "## ***5. Hypothesis Testing***"
   ]
  },
  {
   "cell_type": "markdown",
   "metadata": {
    "id": "Yfr_Vlr8HBkt"
   },
   "source": [
    "### Based on your chart experiments, define three hypothetical statements from the dataset. In the next three questions, perform hypothesis testing to obtain final conclusion about the statements through your code and statistical testing."
   ]
  },
  {
   "cell_type": "markdown",
   "metadata": {
    "id": "-7MS06SUHkB-"
   },
   "source": [
    "Answer Here."
   ]
  },
  {
   "cell_type": "markdown",
   "metadata": {
    "id": "8yEUt7NnHlrM"
   },
   "source": [
    "### Hypothetical Statement - 1"
   ]
  },
  {
   "cell_type": "markdown",
   "metadata": {
    "id": "tEA2Xm5dHt1r"
   },
   "source": [
    "#### 1. State Your research hypothesis as a null hypothesis and alternate hypothesis."
   ]
  },
  {
   "cell_type": "markdown",
   "metadata": {},
   "source": [
    "From the charts we can say that there is a significant difference in the average age between individuals with low cardiovascular risk and high cardiovascular risk.\n",
    "\n",
    "**1.Hypothesis Testing for Age:**\n",
    "\n",
    "* **. Null Hypothesis (H0):** There is no significant difference in the average age between individuals with low cardiovascular risk and high cardiovascular risk.\n",
    "* **. Alternative Hypothesis (Ha):** There is a significant difference in the average age between individuals with low cardiovascular risk and high cardiovascular risk."
   ]
  },
  {
   "cell_type": "markdown",
   "metadata": {
    "id": "I79__PHVH19G"
   },
   "source": [
    "#### 2. Perform an appropriate statistical test."
   ]
  },
  {
   "cell_type": "code",
   "execution_count": null,
   "metadata": {
    "colab": {
     "base_uri": "https://localhost:8080/"
    },
    "id": "oZrfquKtyian",
    "outputId": "069cdf3f-a58b-4602-e28a-b8a0d385a4da"
   },
   "outputs": [],
   "source": [
    "from scipy.stats import ttest_ind, chi2_contingency\n",
    "low_risk_age = df[df['ten_year_chd'] == 'low']['age']\n",
    "high_risk_age = df[df['ten_year_chd'] == 'high']['age']\n",
    "\n",
    "t_stat_age, p_value_age = ttest_ind(low_risk_age, high_risk_age, equal_var=False)\n",
    "\n",
    "print(\"T-Statistic:\", t_stat_age)\n",
    "print(\"P-Value:\", p_value_age)\n",
    "print(\"Conclusion:\")\n",
    "if p_value_age < 0.05:\n",
    "    print(\"We reject the null hypothesis. There is a significant difference in the average age between individuals with low and high cardiovascular risk.\")\n",
    "else:\n",
    "    print(\"We fail to reject the null hypothesis. There is no significant difference in the average age between individuals with low and high cardiovascular risk.\")\n"
   ]
  },
  {
   "cell_type": "markdown",
   "metadata": {
    "id": "Ou-I18pAyIpj"
   },
   "source": [
    "##### Which statistical test have you done to obtain P-Value?"
   ]
  },
  {
   "cell_type": "markdown",
   "metadata": {
    "id": "s2U0kk00ygSB"
   },
   "source": [
    "Two-sample independent t-test (unequal variance assumed)."
   ]
  },
  {
   "cell_type": "markdown",
   "metadata": {
    "id": "fF3858GYyt-u"
   },
   "source": [
    "##### Why did you choose the specific statistical test?"
   ]
  },
  {
   "cell_type": "markdown",
   "metadata": {
    "id": "HO4K0gP5y3B4"
   },
   "source": [
    "We used the t-test because we are comparing the means of two independent groups (individuals with low cardiovascular risk and high cardiovascular risk) to determine if there is a significant difference in the average age between these groups."
   ]
  },
  {
   "cell_type": "markdown",
   "metadata": {
    "id": "4_0_7-oCpUZd"
   },
   "source": [
    "### Hypothetical Statement - 2"
   ]
  },
  {
   "cell_type": "markdown",
   "metadata": {
    "id": "hwyV_J3ipUZe"
   },
   "source": [
    "#### 1. State Your research hypothesis as a null hypothesis and alternate hypothesis."
   ]
  },
  {
   "cell_type": "markdown",
   "metadata": {
    "id": "FnpLGJ-4pUZe"
   },
   "source": [
    "**Hypothesis Testing for Proportion of Smokers:**\n",
    "* **Null Hypothesis (H0):** The proportion of smokers is the same among individuals with low cardiovascular risk and high cardiovascular risk.\n",
    "* **Alternative Hypothesis (Ha):** The proportion of smokers is higher among individuals with high cardiovascular risk compared to those with low cardiovascular risk."
   ]
  },
  {
   "cell_type": "markdown",
   "metadata": {
    "id": "3yB-zSqbpUZe"
   },
   "source": [
    "#### 2. Perform an appropriate statistical test."
   ]
  },
  {
   "cell_type": "code",
   "execution_count": null,
   "metadata": {},
   "outputs": [],
   "source": [
    "contingency_table = pd.crosstab(df['ten_year_chd'], df['cigs_per_day']) # creating contingency table\n",
    "chi2_stat, p_value_smoking, _, _ = chi2_contingency(contingency_table)\n",
    "\n",
    "\n",
    "print(\"Chi-Square Statistic:\", chi2_stat)\n",
    "print(\"P-Value:\", p_value_smoking)\n",
    "print(\"Conclusion:\")\n",
    "if p_value_smoking < 0.05:\n",
    "    print(\"We reject the null hypothesis. The proportion of smokers is higher among individuals with high cardiovascular risk.\")\n",
    "else:\n",
    "    print(\"We fail to reject the null hypothesis. There is no significant difference in the proportion of smokers between individuals with low and high cardiovascular risk.\")"
   ]
  },
  {
   "cell_type": "markdown",
   "metadata": {
    "id": "dEUvejAfpUZe"
   },
   "source": [
    "##### Which statistical test have you done to obtain P-Value?"
   ]
  },
  {
   "cell_type": "markdown",
   "metadata": {
    "id": "oLDrPz7HpUZf"
   },
   "source": [
    "Chi-square test of independence."
   ]
  },
  {
   "cell_type": "markdown",
   "metadata": {
    "id": "Fd15vwWVpUZf"
   },
   "source": [
    "##### Why did you choose the specific statistical test?"
   ]
  },
  {
   "cell_type": "markdown",
   "metadata": {
    "id": "4xOGYyiBpUZf"
   },
   "source": [
    "We used the chi-square test because we want to compare the proportions of smokers and non-smokers between two categorical groups (individuals with low cardiovascular risk and high cardiovascular risk). The chi-square test is appropriate for testing independence between two categorical variables."
   ]
  },
  {
   "cell_type": "markdown",
   "metadata": {
    "id": "bn_IUdTipZyH"
   },
   "source": [
    "### Hypothetical Statement - 3"
   ]
  },
  {
   "cell_type": "markdown",
   "metadata": {
    "id": "49K5P_iCpZyH"
   },
   "source": [
    "#### 1. State Your research hypothesis as a null hypothesis and alternate hypothesis."
   ]
  },
  {
   "cell_type": "markdown",
   "metadata": {
    "id": "7gWI5rT9pZyH"
   },
   "source": [
    "**Hypothesis Testing for Cholesterol Levels:**\n",
    "* **Null Hypothesis (H0):** There is no significant difference in cholesterol levels between individuals with low and moderate cardiovascular risk.\n",
    "* **Alternative Hypothesis (Ha):** There is a significant difference in cholesterol levels between individuals with low and moderate cardiovascular risk."
   ]
  },
  {
   "cell_type": "markdown",
   "metadata": {
    "id": "Nff-vKELpZyI"
   },
   "source": [
    "#### 2. Perform an appropriate statistical test."
   ]
  },
  {
   "cell_type": "code",
   "execution_count": null,
   "metadata": {
    "id": "s6AnJQjtpZyI"
   },
   "outputs": [],
   "source": [
    "# Perform Statistical Test to obtain P-Value\n",
    "# Handling Outliers & Outlier treatments\n",
    "low_risk_chol = df[df['ten_year_chd'] == 'low']['total_cholesterol']\n",
    "moderate_risk_chol = df[df['ten_year_chd'] == 'moderate']['total_cholesterol']\n",
    "\n",
    "t_stat_chol, p_value_chol = ttest_ind(low_risk_chol, moderate_risk_chol, equal_var=False)\n",
    "\n",
    "print(\"T-Statistic:\", t_stat_chol)\n",
    "print(\"P-Value:\", p_value_chol)\n",
    "print(\"Conclusion:\")\n",
    "if p_value_chol < 0.05:\n",
    "    print(\"We reject the null hypothesis. There is a significant difference in cholesterol levels between individuals with low and moderate cardiovascular risk.\")\n",
    "else:\n",
    "    print(\"We fail to reject the null hypothesis. There is no significant difference in cholesterol levels between individuals with low and moderate cardiovascular risk.\")"
   ]
  },
  {
   "cell_type": "markdown",
   "metadata": {
    "id": "kLW572S8pZyI"
   },
   "source": [
    "##### Which statistical test have you done to obtain P-Value?"
   ]
  },
  {
   "cell_type": "markdown",
   "metadata": {
    "id": "ytWJ8v15pZyI"
   },
   "source": [
    "Two-sample independent t-test (unequal variance assumed)."
   ]
  },
  {
   "cell_type": "markdown",
   "metadata": {
    "id": "dWbDXHzopZyI"
   },
   "source": [
    "##### Why did you choose the specific statistical test?"
   ]
  },
  {
   "cell_type": "markdown",
   "metadata": {
    "id": "M99G98V6pZyI"
   },
   "source": [
    "Similar to the first hypothesis test, we used the t-test because we are comparing the means of two independent groups (individuals with low cardiovascular risk and moderate cardiovascular risk) to determine if there is a significant difference in cholesterol levels between these groups."
   ]
  },
  {
   "cell_type": "markdown",
   "metadata": {
    "id": "yLjJCtPM0KBk"
   },
   "source": [
    "## ***6. Feature Engineering & Data Pre-processing***"
   ]
  },
  {
   "cell_type": "markdown",
   "metadata": {
    "id": "xiyOF9F70UgQ"
   },
   "source": [
    "### 1. Handling Missing Values"
   ]
  },
  {
   "cell_type": "code",
   "execution_count": null,
   "metadata": {},
   "outputs": [],
   "source": [
    "print(df.isnull().sum())"
   ]
  },
  {
   "cell_type": "markdown",
   "metadata": {},
   "source": [
    "Handling Missing Values & Missing Value Imputation We can handle them by filling the missing values with the median of each column.\n",
    "It shows from EDA that education,cigs_per_day,bp_meds,total_cholesterol,bmi,heart_rate=1 MV,glucose=304 MVcolumns have missing values."
   ]
  },
  {
   "cell_type": "code",
   "execution_count": null,
   "metadata": {},
   "outputs": [],
   "source": [
    "df['education'].fillna(df['education'].mode(), inplace=True) # has ordinal values upto 4"
   ]
  },
  {
   "cell_type": "code",
   "execution_count": null,
   "metadata": {},
   "outputs": [],
   "source": [
    "df['cigs_per_day'].fillna(df['cigs_per_day'].mean(), inplace=True) # has continious values"
   ]
  },
  {
   "cell_type": "code",
   "execution_count": null,
   "metadata": {},
   "outputs": [],
   "source": [
    "df['bp_meds'].fillna(df['bp_meds'].median(), inplace=True) # has continious values"
   ]
  },
  {
   "cell_type": "code",
   "execution_count": null,
   "metadata": {},
   "outputs": [],
   "source": [
    "df['total_cholesterol'].fillna(df['total_cholesterol'].median(), inplace=True) # has continious values"
   ]
  },
  {
   "cell_type": "code",
   "execution_count": null,
   "metadata": {},
   "outputs": [],
   "source": [
    "df['bmi'].fillna(df['bmi'].median(), inplace=True) # # has continious values"
   ]
  },
  {
   "cell_type": "code",
   "execution_count": null,
   "metadata": {},
   "outputs": [],
   "source": [
    "df.dropna(subset=['heart_rate'], inplace=True) # has only one na values so dropped that "
   ]
  },
  {
   "cell_type": "code",
   "execution_count": null,
   "metadata": {},
   "outputs": [],
   "source": [
    "# Mean, median, and mode for glucose\n",
    "print(f\"mean {df.glucose.mean()},median {df.glucose.median()} and mode {df.glucose.mode()}\")"
   ]
  },
  {
   "cell_type": "markdown",
   "metadata": {},
   "source": [
    "In the glucose column, 304 data points are missing. Using the mean or median to fill in these values could introduce significant inaccuracies. and mean median and mode we can say that data is right skewed\n",
    "\n",
    "To counteract this, the KNN imputer method could be employed to replace the missing data."
   ]
  },
  {
   "cell_type": "code",
   "execution_count": null,
   "metadata": {},
   "outputs": [],
   "source": [
    "from sklearn.impute import KNNImputer\n",
    "\n",
    "knn_imputer = KNNImputer(n_neighbors=5)\n",
    "glucose_missing = 'glucose'\n",
    "df[glucose_missing] = knn_imputer.fit_transform(df[[glucose_missing]]) # Fit and transform the data using the KNNImputer"
   ]
  },
  {
   "cell_type": "code",
   "execution_count": null,
   "metadata": {},
   "outputs": [],
   "source": [
    "#df.isna().sum()"
   ]
  },
  {
   "cell_type": "markdown",
   "metadata": {
    "id": "7wuGOrhz0itI"
   },
   "source": [
    "#### What all missing value imputation techniques have you used and why did you use those techniques?"
   ]
  },
  {
   "cell_type": "markdown",
   "metadata": {
    "id": "1ixusLtI0pqI"
   },
   "source": [
    "* Used mean and median for the continious values and mode for the categorical ordinal value.\n",
    "* For glucose used KNN Imputer as it has more missing valu i.e above 300 as it could affect the acuuracy and result."
   ]
  },
  {
   "cell_type": "markdown",
   "metadata": {
    "id": "id1riN9m0vUs"
   },
   "source": [
    "### 2. Handling Outliers"
   ]
  },
  {
   "cell_type": "code",
   "execution_count": null,
   "metadata": {
    "id": "M6w2CzZf04JK"
   },
   "outputs": [],
   "source": [
    "# Visual Inspection - Box Plot\n",
    "plt.figure(figsize=(20, 8))\n",
    "df.boxplot()\n",
    "plt.title('Box Plot of dataframe')\n",
    "plt.show()"
   ]
  },
  {
   "cell_type": "markdown",
   "metadata": {},
   "source": [
    "From above boxplot we can see that some important columnsa having outliers. Now lets identify potential outliers."
   ]
  },
  {
   "cell_type": "code",
   "execution_count": null,
   "metadata": {},
   "outputs": [],
   "source": [
    "for col in cont_col: # Removing outliers from columns\n",
    "  q1 = df[col].quantile(0.25)\n",
    "  q3 = df[col].quantile(0.75)\n",
    "  iqr = q3 - q1              # Using IQR method to define the range of inliners:\n",
    "  upper_tail = q3 + 1.5 * iqr\n",
    "  #print(\"upper_tail\",upper_tail)\n",
    "  lower_tail = q1 - 1.5 * iqr\n",
    "  #print(\"lower_tail\",lower_tail)\n",
    "  df[col] = df[col].apply(lambda x: upper_tail if x > upper_tail else lower_tail if x < lower_tail else x) #Replacing Outliers"
   ]
  },
  {
   "cell_type": "code",
   "execution_count": null,
   "metadata": {},
   "outputs": [],
   "source": [
    "# Visual Inspection after removing outliers- Box Plot \n",
    "plt.figure(figsize=(20, 8))\n",
    "df.boxplot()\n",
    "plt.title('Box Plot of dataframe')\n",
    "plt.show()"
   ]
  },
  {
   "cell_type": "markdown",
   "metadata": {
    "id": "578E2V7j08f6"
   },
   "source": [
    "##### What all outlier treatment techniques have you used and why did you use those techniques?"
   ]
  },
  {
   "cell_type": "markdown",
   "metadata": {
    "id": "uGZz5OrT1HH-"
   },
   "source": [
    "**IQR Interquartile Range method:**  The IQR method is a robust statistical technique for identifying and dealing with outliers in a dataset.\n",
    "\n",
    "* **1.Interquartile Range (IQR):** The IQR is a measure of statistical dispersion, representing the range between the first quartile (Q1) and the third quartile (Q3) of the data. It is calculated as IQR = Q3 - Q1.\n",
    "\n",
    "* **Outlier Identification:** Outliers are identified as data points that fall below Q1 - 1.5 * IQR or above Q3 + 1.5 * IQR. These data points are considered extreme values compared to the rest of the data.\n",
    "\n",
    "* **Outlier Handling:** Once outliers are identified, they can be treated in different ways. In the code example, we chose to replace the outliers with the upper or lower bound value. This is known as \"Winsorization,\" where the extreme values are replaced with values from the tails of the distribution.\n",
    "\n",
    "**Impact of IQR Method:** The IQR method is robust to outliers, meaning it is less affected by the presence of extreme values compared to other statistical methods like mean and standard deviation. This makes it a suitable choice for datasets that contain significant variations or when dealing with non-normally distributed data."
   ]
  },
  {
   "cell_type": "markdown",
   "metadata": {
    "id": "89xtkJwZ18nB"
   },
   "source": [
    "### 3. Categorical Encoding"
   ]
  },
  {
   "cell_type": "code",
   "execution_count": null,
   "metadata": {},
   "outputs": [],
   "source": [
    "df = pd.get_dummies(df, columns=['sex',\"is_smoking\"])"
   ]
  },
  {
   "cell_type": "code",
   "execution_count": null,
   "metadata": {},
   "outputs": [],
   "source": [
    "cat_col.extend(['sex_F','sex_M'])"
   ]
  },
  {
   "cell_type": "code",
   "execution_count": null,
   "metadata": {},
   "outputs": [],
   "source": [
    "cat_col.remove(\"sex\")"
   ]
  },
  {
   "cell_type": "code",
   "execution_count": null,
   "metadata": {},
   "outputs": [],
   "source": [
    "cat_col.remove(\"is_smoking\")"
   ]
  },
  {
   "cell_type": "markdown",
   "metadata": {
    "id": "67NQN5KX2AMe"
   },
   "source": [
    "#### What all categorical encoding techniques have you used & why did you use those techniques?"
   ]
  },
  {
   "cell_type": "markdown",
   "metadata": {
    "id": "UDaue5h32n_G"
   },
   "source": [
    "Onehot encoding is used to encode the 'sex',\"is_smoking\" columns.\n",
    "\n",
    "As all the remaining categorical columns are binary (0/1) so no need to encode them."
   ]
  },
  {
   "cell_type": "markdown",
   "metadata": {
    "id": "Iwf50b-R2tYG"
   },
   "source": [
    "### 4. Textual Data Preprocessing\n",
    "(It's mandatory for textual dataset i.e., NLP, Sentiment Analysis, Text Clustering etc.)"
   ]
  },
  {
   "cell_type": "markdown",
   "metadata": {
    "id": "GMQiZwjn3iu7"
   },
   "source": [
    "#### 1. Expand Contraction"
   ]
  },
  {
   "cell_type": "code",
   "execution_count": null,
   "metadata": {
    "id": "PTouz10C3oNN"
   },
   "outputs": [],
   "source": [
    "# Expand Contraction"
   ]
  },
  {
   "cell_type": "markdown",
   "metadata": {
    "id": "WVIkgGqN3qsr"
   },
   "source": [
    "#### 2. Lower Casing"
   ]
  },
  {
   "cell_type": "code",
   "execution_count": null,
   "metadata": {
    "id": "88JnJ1jN3w7j"
   },
   "outputs": [],
   "source": [
    "# Lower Casing"
   ]
  },
  {
   "cell_type": "markdown",
   "metadata": {
    "id": "XkPnILGE3zoT"
   },
   "source": [
    "#### 3. Removing Punctuations"
   ]
  },
  {
   "cell_type": "code",
   "execution_count": null,
   "metadata": {
    "id": "vqbBqNaA33c0"
   },
   "outputs": [],
   "source": [
    "# Remove Punctuations"
   ]
  },
  {
   "cell_type": "markdown",
   "metadata": {
    "id": "Hlsf0x5436Go"
   },
   "source": [
    "#### 4. Removing URLs & Removing words and digits contain digits."
   ]
  },
  {
   "cell_type": "code",
   "execution_count": null,
   "metadata": {
    "id": "2sxKgKxu4Ip3"
   },
   "outputs": [],
   "source": [
    "# Remove URLs & Remove words and digits contain digits"
   ]
  },
  {
   "cell_type": "markdown",
   "metadata": {
    "id": "mT9DMSJo4nBL"
   },
   "source": [
    "#### 5. Removing Stopwords & Removing White spaces"
   ]
  },
  {
   "cell_type": "code",
   "execution_count": null,
   "metadata": {
    "id": "T2LSJh154s8W"
   },
   "outputs": [],
   "source": [
    "# Remove Stopwords"
   ]
  },
  {
   "cell_type": "code",
   "execution_count": null,
   "metadata": {
    "id": "EgLJGffy4vm0"
   },
   "outputs": [],
   "source": [
    "# Remove White spaces"
   ]
  },
  {
   "cell_type": "markdown",
   "metadata": {
    "id": "c49ITxTc407N"
   },
   "source": [
    "#### 6. Rephrase Text"
   ]
  },
  {
   "cell_type": "code",
   "execution_count": null,
   "metadata": {
    "id": "foqY80Qu48N2"
   },
   "outputs": [],
   "source": [
    "# Rephrase Text"
   ]
  },
  {
   "cell_type": "markdown",
   "metadata": {
    "id": "OeJFEK0N496M"
   },
   "source": [
    "#### 7. Tokenization"
   ]
  },
  {
   "cell_type": "code",
   "execution_count": null,
   "metadata": {
    "id": "ijx1rUOS5CUU"
   },
   "outputs": [],
   "source": [
    "# Tokenization"
   ]
  },
  {
   "cell_type": "markdown",
   "metadata": {
    "id": "9ExmJH0g5HBk"
   },
   "source": [
    "#### 8. Text Normalization"
   ]
  },
  {
   "cell_type": "code",
   "execution_count": null,
   "metadata": {
    "id": "AIJ1a-Zc5PY8"
   },
   "outputs": [],
   "source": [
    "# Normalizing Text (i.e., Stemming, Lemmatization etc.)"
   ]
  },
  {
   "cell_type": "markdown",
   "metadata": {
    "id": "cJNqERVU536h"
   },
   "source": [
    "##### Which text normalization technique have you used and why?"
   ]
  },
  {
   "cell_type": "markdown",
   "metadata": {
    "id": "Z9jKVxE06BC1"
   },
   "source": [
    "Answer Here."
   ]
  },
  {
   "cell_type": "markdown",
   "metadata": {
    "id": "k5UmGsbsOxih"
   },
   "source": [
    "#### 9. Part of speech tagging"
   ]
  },
  {
   "cell_type": "code",
   "execution_count": null,
   "metadata": {
    "id": "btT3ZJBAO6Ik"
   },
   "outputs": [],
   "source": [
    "# POS Taging"
   ]
  },
  {
   "cell_type": "markdown",
   "metadata": {
    "id": "T0VqWOYE6DLQ"
   },
   "source": [
    "#### 10. Text Vectorization"
   ]
  },
  {
   "cell_type": "code",
   "execution_count": null,
   "metadata": {
    "id": "yBRtdhth6JDE"
   },
   "outputs": [],
   "source": [
    "# Vectorizing Text"
   ]
  },
  {
   "cell_type": "markdown",
   "metadata": {
    "id": "qBMux9mC6MCf"
   },
   "source": [
    "##### Which text vectorization technique have you used and why?"
   ]
  },
  {
   "cell_type": "markdown",
   "metadata": {
    "id": "su2EnbCh6UKQ"
   },
   "source": [
    "Answer Here."
   ]
  },
  {
   "cell_type": "markdown",
   "metadata": {
    "id": "-oLEiFgy-5Pf"
   },
   "source": [
    "### 4. Feature Manipulation & Selection"
   ]
  },
  {
   "cell_type": "markdown",
   "metadata": {
    "id": "C74aWNz2AliB"
   },
   "source": [
    "#### 1. Feature Manipulation"
   ]
  },
  {
   "cell_type": "markdown",
   "metadata": {},
   "source": [
    "Feature manipulation, also known as feature engineering, is the process of transforming or selecting the data attributes (features) to improve the performance of machine learning models. It involves creating new features, modifying existing ones, or selecting the most informative ones.\n",
    "\n",
    "Let's check about the multicolinearity of features."
   ]
  },
  {
   "cell_type": "code",
   "execution_count": null,
   "metadata": {
    "id": "h1qC4yhBApWC"
   },
   "outputs": [],
   "source": [
    "# Manipulate Features to minimize feature correlation and create new features\n",
    "from statsmodels.stats.outliers_influence import variance_inflation_factor\n",
    "def vif_cal(X):\n",
    "    vif_df = pd.DataFrame() # df to store the calculated VIF values\n",
    "    vif_df[\"variables\"] = X.columns\n",
    "    vif_df[\"VIF\"] = [variance_inflation_factor(X.values, i) for i in range(X.shape[1])] # Calculating VIF\n",
    "    return(vif_df)"
   ]
  },
  {
   "cell_type": "code",
   "execution_count": null,
   "metadata": {},
   "outputs": [],
   "source": [
    "cont_col_df = pd.DataFrame(df[cont_col])\n",
    "cont_col_df"
   ]
  },
  {
   "cell_type": "code",
   "execution_count": null,
   "metadata": {},
   "outputs": [],
   "source": [
    "vif_cal(df[[i for i in cont_col_df]])"
   ]
  },
  {
   "cell_type": "markdown",
   "metadata": {},
   "source": [
    "The VIF quantifies how much the variance of an estimated regression coefficient is inflated due to multicollinearity. \n",
    "\n",
    "* **VIF = 1: No multicollinearity.** The feature is not correlated with any other predictor in the model.\n",
    "\n",
    "* **VIF < 5: Low multicollinearity.** The feature has a moderate correlation with other predictors, but it is not problematic for the model.\n",
    "\n",
    "* **VIF between 5 and 10:** Moderate multicollinearity. The feature is moderately correlated with other predictors, and there might be a concern about its impact on coefficient estimates.\n",
    "\n",
    "* **VIF > 10: High multicollinearity.** The feature is highly correlated with other predictors, and this may lead to unreliable coefficient estimates. This level of multicollinearity can negatively affect the model's interpretability and predictive performance.\n",
    "\n",
    "Here most of the Features gives values more that 10 but Systolic Blood Pressure (SBP) and Diastolic Blood Pressure (DBP) has heighest VIF and from them we can creat new Feature as Pulse Pressure."
   ]
  },
  {
   "cell_type": "markdown",
   "metadata": {},
   "source": [
    "Pulse pressure is the difference between systolic blood pressure (the highest pressure in the arteries when the heart beats) and diastolic blood pressure (the lowest pressure in the arteries when the heart is at rest between beats). It is an important cardiovascular indicator and can be calculated using the formula \n",
    "\n",
    "**Pulse Pressure = Systolic Blood Pressure (SBP) - Diastolic Blood Pressure (DBP)** "
   ]
  },
  {
   "cell_type": "code",
   "execution_count": null,
   "metadata": {},
   "outputs": [],
   "source": [
    "df['pulse_pressure'] = df['systolic_bp']-df['diastolic_bp']  # Creating a new column pulse_pressure and dropping systolic_bp and diastolic_bp\n",
    "df.drop(['systolic_bp','diastolic_bp'], axis=1,inplace=True) # dropping systolic_bp,diastolic_bp as we used these in pulse_pressure"
   ]
  },
  {
   "cell_type": "code",
   "execution_count": null,
   "metadata": {},
   "outputs": [],
   "source": [
    "cont_col_df['pulse_pressure']=df['pulse_pressure'] # Updating the continuous_var list after VIF and new feature creation."
   ]
  },
  {
   "cell_type": "code",
   "execution_count": null,
   "metadata": {},
   "outputs": [],
   "source": [
    "cont_col.remove('systolic_bp')\n",
    "cont_col.remove('diastolic_bp')\n",
    "cont_col.append('pulse_pressure') # updated continious values column to recalculate the vif"
   ]
  },
  {
   "cell_type": "code",
   "execution_count": null,
   "metadata": {},
   "outputs": [],
   "source": [
    "cont_col_df = pd.DataFrame(df[cont_col])"
   ]
  },
  {
   "cell_type": "code",
   "execution_count": null,
   "metadata": {},
   "outputs": [],
   "source": [
    "vif_cal(df[[i for i in cont_col_df]])"
   ]
  },
  {
   "cell_type": "code",
   "execution_count": null,
   "metadata": {},
   "outputs": [],
   "source": [
    "corr = df[cont_col].corr()\n",
    "sns.heatmap(corr , vmin = -1,vmax=1, annot = True, cmap=\"YlGnBu\")"
   ]
  },
  {
   "cell_type": "markdown",
   "metadata": {
    "id": "2DejudWSA-a0"
   },
   "source": [
    "#### 2. Feature Selection"
   ]
  },
  {
   "cell_type": "markdown",
   "metadata": {},
   "source": [
    "We are with three columns cigs_per_day smoking_yes and smoking_no we can drop smoking_yes and smoking_no as cigs_per_day itself provide required infotmation"
   ]
  },
  {
   "cell_type": "code",
   "execution_count": null,
   "metadata": {
    "id": "YLhe8UmaBCEE"
   },
   "outputs": [],
   "source": [
    "# Select your features wisely to avoid overfitting\n",
    "df.drop(['is_smoking_NO','is_smoking_YES'],axis=1,inplace=True)"
   ]
  },
  {
   "cell_type": "markdown",
   "metadata": {
    "id": "pEMng2IbBLp7"
   },
   "source": [
    "##### What all feature selection methods have you used  and why?"
   ]
  },
  {
   "cell_type": "markdown",
   "metadata": {
    "id": "rb2Lh6Z8BgGs"
   },
   "source": [
    "* By using VIF we i found that the there is a multicolinarity is present in the dataset.\n",
    "* Systolic and diastolic blood pressure were found to be strongly correlated, so i combined them into a new feature called \"pulse pressure\" to reduce the correlation and improve the analysis.\n",
    "* The dataset has a column called \"is smoking\" that indicates whether a person is a smoker or not (with values \"yes\" or \"no\").\n",
    "* Another column named \"cigs per day\" provides the number of cigarettes smoked per day (for smokers) and is set to \"0\" for non-smokers."
   ]
  },
  {
   "cell_type": "markdown",
   "metadata": {
    "id": "rAdphbQ9Bhjc"
   },
   "source": [
    "##### Which all features you found important and why?"
   ]
  },
  {
   "cell_type": "markdown",
   "metadata": {
    "id": "fGgaEstsBnaf"
   },
   "source": [
    "After the feature selection completed these are important colums extracted: \n",
    "* 'age', 'education', 'cigs_per_day', 'bp_meds', 'prevalent_stroke','prevalent_hyp', 'diabetes', 'total_cholesterol', 'bmi', 'heart_rate', glucose', 'ten_year_chd', 'sex_F', 'sex_M', 'pulse_pressure'.\n",
    "\n",
    "All these features depicts the demographic, behavioural, current medical and historic medical data of a patient."
   ]
  },
  {
   "cell_type": "markdown",
   "metadata": {
    "id": "TNVZ9zx19K6k"
   },
   "source": [
    "### 5. Data Transformation"
   ]
  },
  {
   "cell_type": "markdown",
   "metadata": {
    "id": "nqoHp30x9hH9"
   },
   "source": [
    "#### Do you think that your data needs to be transformed? If yes, which transformation have you used. Explain Why?"
   ]
  },
  {
   "cell_type": "markdown",
   "metadata": {},
   "source": [
    "Yes, from the EDA and various graph and VIF calculation we can see that dataset is skewed and present the multicolinarity and these factors will badly affect the result of a any model so, data needs to be transformed."
   ]
  },
  {
   "cell_type": "code",
   "execution_count": null,
   "metadata": {
    "id": "I6quWQ1T9rtH"
   },
   "outputs": [],
   "source": [
    "# Transform Your data\n",
    "df[cont_col]"
   ]
  },
  {
   "cell_type": "code",
   "execution_count": null,
   "metadata": {},
   "outputs": [],
   "source": [
    "df['age']                   = np.log10(df['age']+1)\n",
    "df['cigs_per_day']          = np.sqrt(df['cigs_per_day'])\n",
    "df['total_cholesterol']     = np.log10(df['total_cholesterol']+1)\n",
    "df['bmi']                   = np.sqrt(df['bmi']+1)\n",
    "df['heart_rate']            = np.log10(df['heart_rate']+1)\n",
    "df['glucose']               = np.sqrt(df['glucose'])\n",
    "df['pulse_pressure']        = np.sqrt(df['pulse_pressure'])"
   ]
  },
  {
   "cell_type": "code",
   "execution_count": null,
   "metadata": {},
   "outputs": [],
   "source": [
    "df[cat_col]"
   ]
  },
  {
   "cell_type": "code",
   "execution_count": null,
   "metadata": {},
   "outputs": [],
   "source": [
    "df[\"education\"]= np.sqrt(df[\"education\"])"
   ]
  },
  {
   "cell_type": "markdown",
   "metadata": {},
   "source": [
    "* Used log transform and squareroot transform on the different continuous columns to reduce the skew of the data.\n",
    "* Log transformation involves taking the logarithm of each data point, useful for reducing skewness and handling exponential growth patterns.\n",
    "* Square root transformation involves taking the square root of each data point, helpful for stabilizing variance and handling right-skewed data."
   ]
  },
  {
   "cell_type": "markdown",
   "metadata": {
    "id": "rMDnDkt2B6du"
   },
   "source": [
    "### 6. Data Scaling"
   ]
  },
  {
   "cell_type": "code",
   "execution_count": null,
   "metadata": {},
   "outputs": [],
   "source": [
    "df"
   ]
  },
  {
   "cell_type": "code",
   "execution_count": null,
   "metadata": {
    "id": "dL9LWpySC6x_"
   },
   "outputs": [],
   "source": [
    "# Scaling your data\n",
    "scaler = StandardScaler()\n",
    "df[cont_col] = scaler.fit_transform(df[cont_col])"
   ]
  },
  {
   "cell_type": "code",
   "execution_count": null,
   "metadata": {},
   "outputs": [],
   "source": [
    "df.isna().sum()"
   ]
  },
  {
   "cell_type": "code",
   "execution_count": null,
   "metadata": {},
   "outputs": [],
   "source": []
  },
  {
   "cell_type": "code",
   "execution_count": null,
   "metadata": {},
   "outputs": [],
   "source": [
    "df"
   ]
  },
  {
   "cell_type": "markdown",
   "metadata": {
    "id": "yiiVWRdJDDil"
   },
   "source": [
    "##### Which method have you used to scale you data and why?"
   ]
  },
  {
   "cell_type": "markdown",
   "metadata": {},
   "source": [
    " The goal of data scaling is to bring all the features to a similar scale, removing any bias that may arise from different units or magnitudes of the variables. It ensures that no single feature dominates the analysis or modeling process based solely on its scale. Standardization and Normalization are the two methods.\n",
    "\n",
    " Standardization :- In standardization, each data point is scaled based on the mean and standard deviation of the feature. The formula for standardization is: x_standardized = (x - mean(x)) / std(x) where x is the original value, mean(x) is the mean of the feature, and std(x) is the standard deviation of the feature.\n",
    "\n",
    "Standardization is commonly used when the data has varying ranges and a distribution that is approximately normal (Gaussian). It transforms the data to have a mean of 0 and a standard deviation of 1."
   ]
  },
  {
   "cell_type": "markdown",
   "metadata": {
    "id": "1UUpS68QDMuG"
   },
   "source": [
    "### 7. Dimesionality Reduction"
   ]
  },
  {
   "cell_type": "markdown",
   "metadata": {
    "id": "kexQrXU-DjzY"
   },
   "source": [
    "##### Do you think that dimensionality reduction is needed? Explain Why?"
   ]
  },
  {
   "cell_type": "markdown",
   "metadata": {
    "id": "GGRlBsSGDtTQ"
   },
   "source": [
    "No, Alredy data is in low dimenssion."
   ]
  },
  {
   "cell_type": "markdown",
   "metadata": {
    "id": "T5CmagL3EC8N"
   },
   "source": [
    "##### Which dimensionality reduction technique have you used and why? (If dimensionality reduction done on dataset.)"
   ]
  },
  {
   "cell_type": "markdown",
   "metadata": {
    "id": "ZKr75IDuEM7t"
   },
   "source": [
    "Answer Here."
   ]
  },
  {
   "cell_type": "markdown",
   "metadata": {
    "id": "BhH2vgX9EjGr"
   },
   "source": [
    "### 8. Data Splitting"
   ]
  },
  {
   "cell_type": "code",
   "execution_count": null,
   "metadata": {
    "id": "0CTyd2UwEyNM"
   },
   "outputs": [],
   "source": [
    "# Split your data to train and test. Choose Splitting ratio wisely.\n",
    "x = df.drop('ten_year_chd',axis=1)\n",
    "y = df['ten_year_chd']\n",
    "X_train, X_test, y_train, y_test = train_test_split(x, y, test_size=0.2, random_state=21, stratify=y, shuffle=True) # train test split"
   ]
  },
  {
   "cell_type": "markdown",
   "metadata": {
    "id": "qjKvONjwE8ra"
   },
   "source": [
    "##### What data splitting ratio have you used and why?"
   ]
  },
  {
   "cell_type": "markdown",
   "metadata": {
    "id": "Y2lJ8cobFDb_"
   },
   "source": [
    "To train our model, we divided the data into two parts: the training set (80% of the data) and the test set (20% of the data). The training set is used to teach the model patterns and information from the data, as it contains a large amount of data for learning. The test set is used to check how well the model performs on new, unseen data. This way, we can ensure that the model is effective in making predictions on data it has never encountered before."
   ]
  },
  {
   "cell_type": "markdown",
   "metadata": {
    "id": "P1XJ9OREExlT"
   },
   "source": [
    "### 9. Handling Imbalanced Dataset"
   ]
  },
  {
   "cell_type": "code",
   "execution_count": null,
   "metadata": {},
   "outputs": [],
   "source": [
    "y_train.value_counts()"
   ]
  },
  {
   "cell_type": "code",
   "execution_count": null,
   "metadata": {},
   "outputs": [],
   "source": [
    "y_train.value_counts().plot(kind='bar', title='Target variable before SMOTE')"
   ]
  },
  {
   "cell_type": "markdown",
   "metadata": {
    "id": "VFOzZv6IFROw"
   },
   "source": [
    "##### Do you think the dataset is imbalanced? Explain Why."
   ]
  },
  {
   "cell_type": "markdown",
   "metadata": {
    "id": "GeKDIv7pFgcC"
   },
   "source": [
    "Yes the dataset is imbalanced and the number of positive cases is very low compared to the negative cases."
   ]
  },
  {
   "cell_type": "code",
   "execution_count": null,
   "metadata": {},
   "outputs": [],
   "source": [
    "df.isnull().sum()"
   ]
  },
  {
   "cell_type": "code",
   "execution_count": null,
   "metadata": {
    "id": "nQsRhhZLFiDs"
   },
   "outputs": [],
   "source": [
    "# Handling Imbalanced Dataset (If needed)\n",
    "\n",
    "# Oversampling using SMOTETomek\n",
    "# fit predictor and target variable\n",
    "x_smote, y_smote = SMOTETomek(random_state=0).fit_resample(X_train, y_train)\n",
    "\n",
    "print('Samples in the original dataset: ', len(y_train))\n",
    "print('Samples in the resampled dataset: ', len(y_smote))\n",
    "     "
   ]
  },
  {
   "cell_type": "code",
   "execution_count": null,
   "metadata": {},
   "outputs": [],
   "source": [
    "\n",
    "# visualize the target variable after SMOTE\n",
    "y_smote.value_counts().plot(kind='bar', title='Target variable after SMOTE')"
   ]
  },
  {
   "cell_type": "markdown",
   "metadata": {
    "id": "TIqpNgepFxVj"
   },
   "source": [
    "##### What technique did you use to handle the imbalance dataset and why? (If needed to be balanced)"
   ]
  },
  {
   "cell_type": "markdown",
   "metadata": {
    "id": "qbet1HwdGDTz"
   },
   "source": [
    "Answer Here."
   ]
  },
  {
   "cell_type": "markdown",
   "metadata": {
    "id": "VfCC591jGiD4"
   },
   "source": [
    "## ***7. ML Model Implementation***"
   ]
  },
  {
   "cell_type": "markdown",
   "metadata": {
    "id": "OB4l2ZhMeS1U"
   },
   "source": [
    "### ML Model - 1"
   ]
  },
  {
   "cell_type": "code",
   "execution_count": null,
   "metadata": {
    "id": "7ebyywQieS1U"
   },
   "outputs": [],
   "source": [
    "# ML Model - 1 Implementation\n",
    "\n",
    "# Fit the Algorithm\n",
    "\n",
    "# Predict on the model"
   ]
  },
  {
   "cell_type": "markdown",
   "metadata": {
    "id": "ArJBuiUVfxKd"
   },
   "source": [
    "#### 1. Explain the ML Model used and it's performance using Evaluation metric Score Chart."
   ]
  },
  {
   "cell_type": "code",
   "execution_count": null,
   "metadata": {
    "id": "rqD5ZohzfxKe"
   },
   "outputs": [],
   "source": [
    "# Visualizing evaluation Metric Score chart"
   ]
  },
  {
   "cell_type": "markdown",
   "metadata": {
    "id": "4qY1EAkEfxKe"
   },
   "source": [
    "#### 2. Cross- Validation & Hyperparameter Tuning"
   ]
  },
  {
   "cell_type": "code",
   "execution_count": null,
   "metadata": {
    "id": "Dy61ujd6fxKe"
   },
   "outputs": [],
   "source": [
    "# ML Model - 1 Implementation with hyperparameter optimization techniques (i.e., GridSearch CV, RandomSearch CV, Bayesian Optimization etc.)\n",
    "\n",
    "# Fit the Algorithm\n",
    "\n",
    "# Predict on the model"
   ]
  },
  {
   "cell_type": "markdown",
   "metadata": {
    "id": "PiV4Ypx8fxKe"
   },
   "source": [
    "##### Which hyperparameter optimization technique have you used and why?"
   ]
  },
  {
   "cell_type": "markdown",
   "metadata": {
    "id": "negyGRa7fxKf"
   },
   "source": [
    "Answer Here."
   ]
  },
  {
   "cell_type": "markdown",
   "metadata": {
    "id": "TfvqoZmBfxKf"
   },
   "source": [
    "##### Have you seen any improvement? Note down the improvement with updates Evaluation metric Score Chart."
   ]
  },
  {
   "cell_type": "markdown",
   "metadata": {
    "id": "OaLui8CcfxKf"
   },
   "source": [
    "Answer Here."
   ]
  },
  {
   "cell_type": "markdown",
   "metadata": {
    "id": "dJ2tPlVmpsJ0"
   },
   "source": [
    "### ML Model - 2"
   ]
  },
  {
   "cell_type": "markdown",
   "metadata": {
    "id": "JWYfwnehpsJ1"
   },
   "source": [
    "#### 1. Explain the ML Model used and it's performance using Evaluation metric Score Chart."
   ]
  },
  {
   "cell_type": "code",
   "execution_count": null,
   "metadata": {
    "id": "yEl-hgQWpsJ1"
   },
   "outputs": [],
   "source": [
    "# Visualizing evaluation Metric Score chart"
   ]
  },
  {
   "cell_type": "markdown",
   "metadata": {
    "id": "-jK_YjpMpsJ2"
   },
   "source": [
    "#### 2. Cross- Validation & Hyperparameter Tuning"
   ]
  },
  {
   "cell_type": "code",
   "execution_count": null,
   "metadata": {
    "id": "Dn0EOfS6psJ2"
   },
   "outputs": [],
   "source": [
    "# ML Model - 1 Implementation with hyperparameter optimization techniques (i.e., GridSearch CV, RandomSearch CV, Bayesian Optimization etc.)\n",
    "\n",
    "# Fit the Algorithm\n",
    "\n",
    "# Predict on the model"
   ]
  },
  {
   "cell_type": "markdown",
   "metadata": {
    "id": "HAih1iBOpsJ2"
   },
   "source": [
    "##### Which hyperparameter optimization technique have you used and why?"
   ]
  },
  {
   "cell_type": "markdown",
   "metadata": {
    "id": "9kBgjYcdpsJ2"
   },
   "source": [
    "Answer Here."
   ]
  },
  {
   "cell_type": "markdown",
   "metadata": {
    "id": "zVGeBEFhpsJ2"
   },
   "source": [
    "##### Have you seen any improvement? Note down the improvement with updates Evaluation metric Score Chart."
   ]
  },
  {
   "cell_type": "markdown",
   "metadata": {
    "id": "74yRdG6UpsJ3"
   },
   "source": [
    "Answer Here."
   ]
  },
  {
   "cell_type": "markdown",
   "metadata": {
    "id": "bmKjuQ-FpsJ3"
   },
   "source": [
    "#### 3. Explain each evaluation metric's indication towards business and the business impact pf the ML model used."
   ]
  },
  {
   "cell_type": "markdown",
   "metadata": {
    "id": "BDKtOrBQpsJ3"
   },
   "source": [
    "Answer Here."
   ]
  },
  {
   "cell_type": "markdown",
   "metadata": {
    "id": "Fze-IPXLpx6K"
   },
   "source": [
    "### ML Model - 3"
   ]
  },
  {
   "cell_type": "code",
   "execution_count": null,
   "metadata": {
    "id": "FFrSXAtrpx6M"
   },
   "outputs": [],
   "source": [
    "# ML Model - 3 Implementation\n",
    "\n",
    "# Fit the Algorithm\n",
    "\n",
    "# Predict on the model"
   ]
  },
  {
   "cell_type": "markdown",
   "metadata": {
    "id": "7AN1z2sKpx6M"
   },
   "source": [
    "#### 1. Explain the ML Model used and it's performance using Evaluation metric Score Chart."
   ]
  },
  {
   "cell_type": "code",
   "execution_count": null,
   "metadata": {
    "id": "xIY4lxxGpx6M"
   },
   "outputs": [],
   "source": [
    "# Visualizing evaluation Metric Score chart"
   ]
  },
  {
   "cell_type": "markdown",
   "metadata": {
    "id": "9PIHJqyupx6M"
   },
   "source": [
    "#### 2. Cross- Validation & Hyperparameter Tuning"
   ]
  },
  {
   "cell_type": "code",
   "execution_count": null,
   "metadata": {
    "id": "eSVXuaSKpx6M"
   },
   "outputs": [],
   "source": [
    "# ML Model - 3 Implementation with hyperparameter optimization techniques (i.e., GridSearch CV, RandomSearch CV, Bayesian Optimization etc.)\n",
    "\n",
    "# Fit the Algorithm\n",
    "\n",
    "# Predict on the model"
   ]
  },
  {
   "cell_type": "markdown",
   "metadata": {
    "id": "_-qAgymDpx6N"
   },
   "source": [
    "##### Which hyperparameter optimization technique have you used and why?"
   ]
  },
  {
   "cell_type": "markdown",
   "metadata": {
    "id": "lQMffxkwpx6N"
   },
   "source": [
    "Answer Here."
   ]
  },
  {
   "cell_type": "markdown",
   "metadata": {
    "id": "Z-hykwinpx6N"
   },
   "source": [
    "##### Have you seen any improvement? Note down the improvement with updates Evaluation metric Score Chart."
   ]
  },
  {
   "cell_type": "markdown",
   "metadata": {
    "id": "MzVzZC6opx6N"
   },
   "source": [
    "Answer Here."
   ]
  },
  {
   "cell_type": "markdown",
   "metadata": {
    "id": "h_CCil-SKHpo"
   },
   "source": [
    "### 1. Which Evaluation metrics did you consider for a positive business impact and why?"
   ]
  },
  {
   "cell_type": "markdown",
   "metadata": {
    "id": "jHVz9hHDKFms"
   },
   "source": [
    "Answer Here."
   ]
  },
  {
   "cell_type": "markdown",
   "metadata": {
    "id": "cBFFvTBNJzUa"
   },
   "source": [
    "### 2. Which ML model did you choose from the above created models as your final prediction model and why?"
   ]
  },
  {
   "cell_type": "markdown",
   "metadata": {
    "id": "6ksF5Q1LKTVm"
   },
   "source": [
    "Answer Here."
   ]
  },
  {
   "cell_type": "markdown",
   "metadata": {
    "id": "HvGl1hHyA_VK"
   },
   "source": [
    "### 3. Explain the model which you have used and the feature importance using any model explainability tool?"
   ]
  },
  {
   "cell_type": "markdown",
   "metadata": {
    "id": "YnvVTiIxBL-C"
   },
   "source": [
    "Answer Here."
   ]
  },
  {
   "cell_type": "markdown",
   "metadata": {
    "id": "EyNgTHvd2WFk"
   },
   "source": [
    "## ***8.*** ***Future Work (Optional)***"
   ]
  },
  {
   "cell_type": "markdown",
   "metadata": {
    "id": "KH5McJBi2d8v"
   },
   "source": [
    "### 1. Save the best performing ml model in a pickle file or joblib file format for deployment process.\n"
   ]
  },
  {
   "cell_type": "code",
   "execution_count": null,
   "metadata": {
    "id": "bQIANRl32f4J"
   },
   "outputs": [],
   "source": [
    "# Save the File"
   ]
  },
  {
   "cell_type": "markdown",
   "metadata": {
    "id": "iW_Lq9qf2h6X"
   },
   "source": [
    "### 2. Again Load the saved model file and try to predict unseen data for a sanity check.\n"
   ]
  },
  {
   "cell_type": "code",
   "execution_count": null,
   "metadata": {
    "id": "oEXk9ydD2nVC"
   },
   "outputs": [],
   "source": [
    "# Load the File and predict unseen data."
   ]
  },
  {
   "cell_type": "markdown",
   "metadata": {
    "id": "-Kee-DAl2viO"
   },
   "source": [
    "### ***Congrats! Your model is successfully created and ready for deployment on a live server for a real user interaction !!!***"
   ]
  },
  {
   "cell_type": "markdown",
   "metadata": {
    "id": "gCX9965dhzqZ"
   },
   "source": [
    "# **Conclusion**"
   ]
  },
  {
   "cell_type": "markdown",
   "metadata": {
    "id": "Fjb1IsQkh3yE"
   },
   "source": [
    "Write the conclusion here."
   ]
  },
  {
   "cell_type": "markdown",
   "metadata": {
    "id": "gIfDvo9L0UH2"
   },
   "source": [
    "### ***Hurrah! You have successfully completed your Machine Learning Capstone Project !!!***"
   ]
  }
 ],
 "metadata": {
  "colab": {
   "collapsed_sections": [
    "w6K7xa23Elo4",
    "mDgbUHAGgjLW",
    "F6T5p64dYrdO",
    "y-Ehk30pYrdP",
    "QHF8YVU7Yuh3",
    "GwzvFGzlYuh3",
    "qYpmQ266Yuh3",
    "_ouA3fa0phqN",
    "Seke61FWphqN",
    "t27r6nlMphqO",
    "r2jJGEOYphqO",
    "b0JNsNcRphqO",
    "BZR9WyysphqO",
    "jj7wYXLtphqO",
    "eZrbJ2SmphqO",
    "rFu4xreNphqO",
    "YJ55k-q6phqO",
    "gCFgpxoyphqP",
    "OVtJsKN_phqQ",
    "lssrdh5qphqQ",
    "U2RJ9gkRphqQ",
    "1M8mcRywphqQ",
    "tgIPom80phqQ",
    "JMzcOPDDphqR",
    "x-EpHcCOp1ci",
    "X_VqEhTip1ck",
    "8zGJKyg5p1ck",
    "PVzmfK_Ep1ck",
    "n3dbpmDWp1ck",
    "ylSl6qgtp1ck",
    "ZWILFDl5p1ck",
    "M7G43BXep1ck",
    "Ag9LCva-p1cl",
    "E6MkPsBcp1cl",
    "2cELzS2fp1cl",
    "3MPXvC8up1cl",
    "NC_X3p0fY2L0",
    "UV0SzAkaZNRQ",
    "YPEH6qLeZNRQ",
    "q29F0dvdveiT",
    "EXh0U9oCveiU",
    "22aHeOlLveiV",
    "g-ATYxFrGrvw",
    "8yEUt7NnHlrM",
    "Ou-I18pAyIpj",
    "fF3858GYyt-u",
    "4_0_7-oCpUZd",
    "hwyV_J3ipUZe",
    "3yB-zSqbpUZe",
    "dEUvejAfpUZe",
    "Fd15vwWVpUZf",
    "bn_IUdTipZyH",
    "49K5P_iCpZyH",
    "Nff-vKELpZyI",
    "kLW572S8pZyI",
    "dWbDXHzopZyI",
    "yLjJCtPM0KBk",
    "xiyOF9F70UgQ",
    "7wuGOrhz0itI",
    "id1riN9m0vUs",
    "578E2V7j08f6",
    "89xtkJwZ18nB",
    "67NQN5KX2AMe",
    "GMQiZwjn3iu7",
    "WVIkgGqN3qsr",
    "XkPnILGE3zoT",
    "Hlsf0x5436Go",
    "mT9DMSJo4nBL",
    "c49ITxTc407N",
    "OeJFEK0N496M",
    "9ExmJH0g5HBk",
    "cJNqERVU536h",
    "k5UmGsbsOxih",
    "T0VqWOYE6DLQ",
    "qBMux9mC6MCf",
    "-oLEiFgy-5Pf",
    "C74aWNz2AliB",
    "2DejudWSA-a0",
    "pEMng2IbBLp7",
    "rAdphbQ9Bhjc",
    "TNVZ9zx19K6k",
    "nqoHp30x9hH9",
    "rMDnDkt2B6du",
    "yiiVWRdJDDil",
    "1UUpS68QDMuG",
    "kexQrXU-DjzY",
    "T5CmagL3EC8N",
    "BhH2vgX9EjGr",
    "qjKvONjwE8ra",
    "P1XJ9OREExlT",
    "VFOzZv6IFROw",
    "TIqpNgepFxVj",
    "VfCC591jGiD4",
    "OB4l2ZhMeS1U",
    "ArJBuiUVfxKd",
    "4qY1EAkEfxKe",
    "PiV4Ypx8fxKe",
    "TfvqoZmBfxKf",
    "dJ2tPlVmpsJ0",
    "JWYfwnehpsJ1",
    "-jK_YjpMpsJ2",
    "HAih1iBOpsJ2",
    "zVGeBEFhpsJ2",
    "bmKjuQ-FpsJ3",
    "Fze-IPXLpx6K",
    "7AN1z2sKpx6M",
    "9PIHJqyupx6M",
    "_-qAgymDpx6N",
    "Z-hykwinpx6N",
    "h_CCil-SKHpo",
    "cBFFvTBNJzUa",
    "HvGl1hHyA_VK",
    "EyNgTHvd2WFk",
    "KH5McJBi2d8v",
    "iW_Lq9qf2h6X",
    "-Kee-DAl2viO",
    "gCX9965dhzqZ",
    "gIfDvo9L0UH2"
   ],
   "provenance": []
  },
  "kernelspec": {
   "display_name": "Python 3 (ipykernel)",
   "language": "python",
   "name": "python3"
  },
  "language_info": {
   "codemirror_mode": {
    "name": "ipython",
    "version": 3
   },
   "file_extension": ".py",
   "mimetype": "text/x-python",
   "name": "python",
   "nbconvert_exporter": "python",
   "pygments_lexer": "ipython3",
   "version": "3.10.1"
  },
  "varInspector": {
   "cols": {
    "lenName": 16,
    "lenType": 16,
    "lenVar": 40
   },
   "kernels_config": {
    "python": {
     "delete_cmd_postfix": "",
     "delete_cmd_prefix": "del ",
     "library": "var_list.py",
     "varRefreshCmd": "print(var_dic_list())"
    },
    "r": {
     "delete_cmd_postfix": ") ",
     "delete_cmd_prefix": "rm(",
     "library": "var_list.r",
     "varRefreshCmd": "cat(var_dic_list()) "
    }
   },
   "types_to_exclude": [
    "module",
    "function",
    "builtin_function_or_method",
    "instance",
    "_Feature"
   ],
   "window_display": false
  }
 },
 "nbformat": 4,
 "nbformat_minor": 1
}
